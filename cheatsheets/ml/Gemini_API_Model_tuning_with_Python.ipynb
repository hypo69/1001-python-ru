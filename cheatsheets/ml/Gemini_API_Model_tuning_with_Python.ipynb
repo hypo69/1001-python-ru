{
  "cells": [
    {
      "cell_type": "markdown",
      "metadata": {
        "id": "view-in-github",
        "colab_type": "text"
      },
      "source": [
        "<a href=\"https://colab.research.google.com/github/hypo69/1001-python-ru/blob/master/cheatsheets/Gemini_API_Model_tuning_with_Python.ipynb\" target=\"_parent\"><img src=\"https://colab.research.google.com/assets/colab-badge.svg\" alt=\"Open In Colab\"/></a>"
      ]
    },
    {
      "cell_type": "markdown",
      "metadata": {
        "id": "Tce3stUlHN0L"
      },
      "source": [
        "##### Copyright 2024 Google LLC."
      ]
    },
    {
      "cell_type": "code",
      "execution_count": null,
      "metadata": {
        "id": "tuOe1ymfHZPu"
      },
      "outputs": [],
      "source": [
        "#@title Licensed under the Apache License, Version 2.0 (the \"License\");\n",
        "# you may not use this file except in compliance with the License.\n",
        "# You may obtain a copy of the License at\n",
        "#\n",
        "# https://www.apache.org/licenses/LICENSE-2.0\n",
        "#\n",
        "# Unless required by applicable law or agreed to in writing, software\n",
        "# distributed under the License is distributed on an \"AS IS\" BASIS,\n",
        "# WITHOUT WARRANTIES OR CONDITIONS OF ANY KIND, either express or implied.\n",
        "# See the License for the specific language governing permissions and\n",
        "# limitations under the License."
      ]
    },
    {
      "cell_type": "code",
      "source": [
        "from google.colab import drive\n",
        "drive.mount('/content/drive')"
      ],
      "metadata": {
        "id": "cLC7Xu7nEl78",
        "outputId": "dda91f08-44ee-4147-c1c3-ac2de4b99f2e",
        "colab": {
          "base_uri": "https://localhost:8080/"
        }
      },
      "execution_count": null,
      "outputs": [
        {
          "output_type": "stream",
          "name": "stdout",
          "text": [
            "Drive already mounted at /content/drive; to attempt to forcibly remount, call drive.mount(\"/content/drive\", force_remount=True).\n"
          ]
        }
      ]
    },
    {
      "cell_type": "markdown",
      "metadata": {
        "id": "yeadDkMiISin"
      },
      "source": [
        "# Gemini API: Model tuning with Python"
      ]
    },
    {
      "cell_type": "markdown",
      "metadata": {
        "id": "lEXQ3OwKIa-O"
      },
      "source": [
        "<table class=\"tfo-notebook-buttons\" align=\"left\">\n",
        "  <td>\n",
        "    <a target=\"_blank\" href=\"https://ai.google.dev/gemini-api/docs/model-tuning/python\"><img src=\"https://ai.google.dev/static/site-assets/images/docs/notebook-site-button.png\" height=\"32\" width=\"32\" />View on ai.google.dev</a>\n",
        "  </td>\n",
        "    <td>\n",
        "    <a target=\"_blank\" href=\"https://colab.research.google.com/github/google/generative-ai-docs/blob/main/site/en/gemini-api/docs/model-tuning/python.ipynb\"><img src=\"https://www.tensorflow.org/images/colab_logo_32px.png\" />Run in Google Colab</a>\n",
        "  </td>\n",
        "  <td>\n",
        "    <a target=\"_blank\" href=\"https://github.com/google/generative-ai-docs/blob/main/site/en/gemini-api/docs/model-tuning/python.ipynb\"><img src=\"https://www.tensorflow.org/images/GitHub-Mark-32px.png\" />View source on GitHub</a>\n",
        "  </td>\n",
        "</table>"
      ]
    },
    {
      "cell_type": "markdown",
      "metadata": {
        "id": "Jp_CKyzxUqx6"
      },
      "source": [
        "In this notebook, you'll learn how to get started with the tuning service using the Python client library for the Gemini API. Here, you'll learn how to tune the text model behind the Gemini API's text generation service."
      ]
    },
    {
      "cell_type": "markdown",
      "metadata": {
        "id": "sOz_wyZAlCuQ"
      },
      "source": [
        "## Setup"
      ]
    },
    {
      "cell_type": "markdown",
      "metadata": {
        "id": "aHimx8NGMWDj"
      },
      "source": [
        "### Install the client library"
      ]
    },
    {
      "cell_type": "code",
      "execution_count": null,
      "metadata": {
        "id": "cbcf72bcb56d"
      },
      "outputs": [],
      "source": [
        "!pip install -q google-generativeai"
      ]
    },
    {
      "cell_type": "markdown",
      "metadata": {
        "id": "jdIYSl2kN0cq"
      },
      "source": [
        "### Import libraries"
      ]
    },
    {
      "cell_type": "code",
      "execution_count": null,
      "metadata": {
        "id": "8enrppafJPCX"
      },
      "outputs": [],
      "source": [
        "import google.generativeai as genai"
      ]
    },
    {
      "cell_type": "code",
      "execution_count": null,
      "metadata": {
        "id": "lhqVUjH7ZKUi"
      },
      "outputs": [],
      "source": [
        "from google.colab import userdata\n",
        "#genai.configure(api_key=userdata.get('XXXXXXXXXXXXXXXXXXXXXXXXXXXXXXX')) # onela\n",
        "genai.configure(api_key='....') # onela"
      ]
    },
    {
      "cell_type": "markdown",
      "metadata": {
        "id": "P-MYZECwlRCq"
      },
      "source": [
        "You can check you existing tuned models with the `genai.list_tuned_model` method."
      ]
    },
    {
      "cell_type": "code",
      "execution_count": null,
      "metadata": {
        "id": "XyWzoYFxU4r6"
      },
      "outputs": [],
      "source": [
        "for i, m in zip(range(5), genai.list_tuned_models()):\n",
        "  print(m.name)"
      ]
    },
    {
      "cell_type": "markdown",
      "metadata": {
        "id": "BhkXRzciv3Dp"
      },
      "source": [
        "## Create tuned model"
      ]
    },
    {
      "cell_type": "markdown",
      "metadata": {
        "id": "OO8VZYAinLWc"
      },
      "source": [
        "To create a tuned model, you need to pass your dataset to the model in the `genai.create_tuned_model` method. You can do this be directly defining the input and output values in the call or importing from a file into a dataframe to pass to the method.\n",
        "\n",
        "For this example, you will tune a model to generate the next number in the sequence. For example, if the input is `1`, the model should output `2`. If the input is `one hundred`, the output should be `one hundred one`."
      ]
    },
    {
      "cell_type": "code",
      "execution_count": null,
      "metadata": {
        "id": "w-EBSe9wTbLB",
        "outputId": "d53f33cb-ac09-4fcb-a161-bcb188103695",
        "colab": {
          "base_uri": "https://localhost:8080/",
          "height": 243
        }
      },
      "outputs": [
        {
          "output_type": "execute_result",
          "data": {
            "text/plain": [
              "Model(name='models/gemini-1.5-flash-001-tuning',\n",
              "      base_model_id='',\n",
              "      version='001',\n",
              "      display_name='Gemini 1.5 Flash 001 Tuning',\n",
              "      description=('Version of Gemini 1.5 Flash that supports tuning, our fast and versatile '\n",
              "                   'multimodal model for scaling across diverse tasks, released in May of 2024.'),\n",
              "      input_token_limit=16384,\n",
              "      output_token_limit=8192,\n",
              "      supported_generation_methods=['generateContent', 'countTokens', 'createTunedModel'],\n",
              "      temperature=1.0,\n",
              "      max_temperature=2.0,\n",
              "      top_p=0.95,\n",
              "      top_k=64)"
            ]
          },
          "metadata": {},
          "execution_count": 19
        }
      ],
      "source": [
        "base_model = [\n",
        "    m for m in genai.list_models()\n",
        "    if \"createTunedModel\" in m.supported_generation_methods and\n",
        "    \"flash\" in m.name][0]\n",
        "base_model"
      ]
    },
    {
      "cell_type": "code",
      "execution_count": 23,
      "metadata": {
        "id": "baHjHh1oTTTC",
        "colab": {
          "base_uri": "https://localhost:8080/",
          "height": 425
        },
        "outputId": "fa0e0331-89db-4c47-fc5d-7a4882bac052"
      },
      "outputs": [
        {
          "output_type": "stream",
          "name": "stderr",
          "text": [
            "WARNING:tornado.access:400 POST /v1beta/tunedModels?tunedModelId=generate-num-2752&%24alt=json%3Benum-encoding%3Dint (127.0.0.1) 964.32ms\n"
          ]
        },
        {
          "output_type": "error",
          "ename": "BadRequest",
          "evalue": "400 POST https://generativelanguage.googleapis.com/v1beta/tunedModels?tunedModelId=generate-num-2752&%24alt=json%3Benum-encoding%3Dint: * CreateTunedModelRequest.tuned_model.tuning_task.training_data: Batch size should be no larger than training examples size.\n* CreateTunedModelRequest.tuned_model.tuning_task.training_data.examples.examples[0].output: output is too long. The maximum character count accepted is 5000.\n",
          "traceback": [
            "\u001b[0;31m---------------------------------------------------------------------------\u001b[0m",
            "\u001b[0;31mBadRequest\u001b[0m                                Traceback (most recent call last)",
            "\u001b[0;32m<ipython-input-23-a6a655ada67c>\u001b[0m in \u001b[0;36m<cell line: 0>\u001b[0;34m()\u001b[0m\n\u001b[1;32m      2\u001b[0m \u001b[0;34m\u001b[0m\u001b[0m\n\u001b[1;32m      3\u001b[0m \u001b[0mname\u001b[0m \u001b[0;34m=\u001b[0m \u001b[0;34mf'generate-num-{random.randint(0,10000)}'\u001b[0m\u001b[0;34m\u001b[0m\u001b[0;34m\u001b[0m\u001b[0m\n\u001b[0;32m----> 4\u001b[0;31m operation = genai.create_tuned_model(\n\u001b[0m\u001b[1;32m      5\u001b[0m     \u001b[0;31m# You can use a tuned model here too. Set `source_model=\"tunedModels/...\"`\u001b[0m\u001b[0;34m\u001b[0m\u001b[0;34m\u001b[0m\u001b[0m\n\u001b[1;32m      6\u001b[0m     \u001b[0;31m# source_model=base_model.name,\u001b[0m\u001b[0;34m\u001b[0m\u001b[0;34m\u001b[0m\u001b[0m\n",
            "\u001b[0;32m/usr/local/lib/python3.11/dist-packages/google/generativeai/models.py\u001b[0m in \u001b[0;36mcreate_tuned_model\u001b[0;34m(source_model, training_data, id, display_name, description, temperature, top_p, top_k, epoch_count, batch_size, learning_rate, input_key, output_key, client, request_options)\u001b[0m\n\u001b[1;32m    362\u001b[0m     )\n\u001b[1;32m    363\u001b[0m \u001b[0;34m\u001b[0m\u001b[0m\n\u001b[0;32m--> 364\u001b[0;31m     operation = client.create_tuned_model(\n\u001b[0m\u001b[1;32m    365\u001b[0m         \u001b[0mdict\u001b[0m\u001b[0;34m(\u001b[0m\u001b[0mtuned_model_id\u001b[0m\u001b[0;34m=\u001b[0m\u001b[0mid\u001b[0m\u001b[0;34m,\u001b[0m \u001b[0mtuned_model\u001b[0m\u001b[0;34m=\u001b[0m\u001b[0mtuned_model\u001b[0m\u001b[0;34m)\u001b[0m\u001b[0;34m,\u001b[0m \u001b[0;34m**\u001b[0m\u001b[0mrequest_options\u001b[0m\u001b[0;34m\u001b[0m\u001b[0;34m\u001b[0m\u001b[0m\n\u001b[1;32m    366\u001b[0m     )\n",
            "\u001b[0;32m/usr/local/lib/python3.11/dist-packages/google/ai/generativelanguage_v1beta/services/model_service/client.py\u001b[0m in \u001b[0;36mcreate_tuned_model\u001b[0;34m(self, request, tuned_model, tuned_model_id, retry, timeout, metadata)\u001b[0m\n\u001b[1;32m   1292\u001b[0m \u001b[0;34m\u001b[0m\u001b[0m\n\u001b[1;32m   1293\u001b[0m         \u001b[0;31m# Send the request.\u001b[0m\u001b[0;34m\u001b[0m\u001b[0;34m\u001b[0m\u001b[0m\n\u001b[0;32m-> 1294\u001b[0;31m         response = rpc(\n\u001b[0m\u001b[1;32m   1295\u001b[0m             \u001b[0mrequest\u001b[0m\u001b[0;34m,\u001b[0m\u001b[0;34m\u001b[0m\u001b[0;34m\u001b[0m\u001b[0m\n\u001b[1;32m   1296\u001b[0m             \u001b[0mretry\u001b[0m\u001b[0;34m=\u001b[0m\u001b[0mretry\u001b[0m\u001b[0;34m,\u001b[0m\u001b[0;34m\u001b[0m\u001b[0;34m\u001b[0m\u001b[0m\n",
            "\u001b[0;32m/usr/local/lib/python3.11/dist-packages/google/api_core/gapic_v1/method.py\u001b[0m in \u001b[0;36m__call__\u001b[0;34m(self, timeout, retry, compression, *args, **kwargs)\u001b[0m\n\u001b[1;32m    129\u001b[0m             \u001b[0mkwargs\u001b[0m\u001b[0;34m[\u001b[0m\u001b[0;34m\"compression\"\u001b[0m\u001b[0;34m]\u001b[0m \u001b[0;34m=\u001b[0m \u001b[0mcompression\u001b[0m\u001b[0;34m\u001b[0m\u001b[0;34m\u001b[0m\u001b[0m\n\u001b[1;32m    130\u001b[0m \u001b[0;34m\u001b[0m\u001b[0m\n\u001b[0;32m--> 131\u001b[0;31m         \u001b[0;32mreturn\u001b[0m \u001b[0mwrapped_func\u001b[0m\u001b[0;34m(\u001b[0m\u001b[0;34m*\u001b[0m\u001b[0margs\u001b[0m\u001b[0;34m,\u001b[0m \u001b[0;34m**\u001b[0m\u001b[0mkwargs\u001b[0m\u001b[0;34m)\u001b[0m\u001b[0;34m\u001b[0m\u001b[0;34m\u001b[0m\u001b[0m\n\u001b[0m\u001b[1;32m    132\u001b[0m \u001b[0;34m\u001b[0m\u001b[0m\n\u001b[1;32m    133\u001b[0m \u001b[0;34m\u001b[0m\u001b[0m\n",
            "\u001b[0;32m/usr/local/lib/python3.11/dist-packages/google/api_core/retry/retry_unary.py\u001b[0m in \u001b[0;36mretry_wrapped_func\u001b[0;34m(*args, **kwargs)\u001b[0m\n\u001b[1;32m    291\u001b[0m                 \u001b[0mself\u001b[0m\u001b[0;34m.\u001b[0m\u001b[0m_initial\u001b[0m\u001b[0;34m,\u001b[0m \u001b[0mself\u001b[0m\u001b[0;34m.\u001b[0m\u001b[0m_maximum\u001b[0m\u001b[0;34m,\u001b[0m \u001b[0mmultiplier\u001b[0m\u001b[0;34m=\u001b[0m\u001b[0mself\u001b[0m\u001b[0;34m.\u001b[0m\u001b[0m_multiplier\u001b[0m\u001b[0;34m\u001b[0m\u001b[0;34m\u001b[0m\u001b[0m\n\u001b[1;32m    292\u001b[0m             )\n\u001b[0;32m--> 293\u001b[0;31m             return retry_target(\n\u001b[0m\u001b[1;32m    294\u001b[0m                 \u001b[0mtarget\u001b[0m\u001b[0;34m,\u001b[0m\u001b[0;34m\u001b[0m\u001b[0;34m\u001b[0m\u001b[0m\n\u001b[1;32m    295\u001b[0m                 \u001b[0mself\u001b[0m\u001b[0;34m.\u001b[0m\u001b[0m_predicate\u001b[0m\u001b[0;34m,\u001b[0m\u001b[0;34m\u001b[0m\u001b[0;34m\u001b[0m\u001b[0m\n",
            "\u001b[0;32m/usr/local/lib/python3.11/dist-packages/google/api_core/retry/retry_unary.py\u001b[0m in \u001b[0;36mretry_target\u001b[0;34m(target, predicate, sleep_generator, timeout, on_error, exception_factory, **kwargs)\u001b[0m\n\u001b[1;32m    151\u001b[0m         \u001b[0;32mexcept\u001b[0m \u001b[0mException\u001b[0m \u001b[0;32mas\u001b[0m \u001b[0mexc\u001b[0m\u001b[0;34m:\u001b[0m\u001b[0;34m\u001b[0m\u001b[0;34m\u001b[0m\u001b[0m\n\u001b[1;32m    152\u001b[0m             \u001b[0;31m# defer to shared logic for handling errors\u001b[0m\u001b[0;34m\u001b[0m\u001b[0;34m\u001b[0m\u001b[0m\n\u001b[0;32m--> 153\u001b[0;31m             _retry_error_helper(\n\u001b[0m\u001b[1;32m    154\u001b[0m                 \u001b[0mexc\u001b[0m\u001b[0;34m,\u001b[0m\u001b[0;34m\u001b[0m\u001b[0;34m\u001b[0m\u001b[0m\n\u001b[1;32m    155\u001b[0m                 \u001b[0mdeadline\u001b[0m\u001b[0;34m,\u001b[0m\u001b[0;34m\u001b[0m\u001b[0;34m\u001b[0m\u001b[0m\n",
            "\u001b[0;32m/usr/local/lib/python3.11/dist-packages/google/api_core/retry/retry_base.py\u001b[0m in \u001b[0;36m_retry_error_helper\u001b[0;34m(exc, deadline, next_sleep, error_list, predicate_fn, on_error_fn, exc_factory_fn, original_timeout)\u001b[0m\n\u001b[1;32m    210\u001b[0m             \u001b[0moriginal_timeout\u001b[0m\u001b[0;34m,\u001b[0m\u001b[0;34m\u001b[0m\u001b[0;34m\u001b[0m\u001b[0m\n\u001b[1;32m    211\u001b[0m         )\n\u001b[0;32m--> 212\u001b[0;31m         \u001b[0;32mraise\u001b[0m \u001b[0mfinal_exc\u001b[0m \u001b[0;32mfrom\u001b[0m \u001b[0msource_exc\u001b[0m\u001b[0;34m\u001b[0m\u001b[0;34m\u001b[0m\u001b[0m\n\u001b[0m\u001b[1;32m    213\u001b[0m     \u001b[0;32mif\u001b[0m \u001b[0mon_error_fn\u001b[0m \u001b[0;32mis\u001b[0m \u001b[0;32mnot\u001b[0m \u001b[0;32mNone\u001b[0m\u001b[0;34m:\u001b[0m\u001b[0;34m\u001b[0m\u001b[0;34m\u001b[0m\u001b[0m\n\u001b[1;32m    214\u001b[0m         \u001b[0mon_error_fn\u001b[0m\u001b[0;34m(\u001b[0m\u001b[0mexc\u001b[0m\u001b[0;34m)\u001b[0m\u001b[0;34m\u001b[0m\u001b[0;34m\u001b[0m\u001b[0m\n",
            "\u001b[0;32m/usr/local/lib/python3.11/dist-packages/google/api_core/retry/retry_unary.py\u001b[0m in \u001b[0;36mretry_target\u001b[0;34m(target, predicate, sleep_generator, timeout, on_error, exception_factory, **kwargs)\u001b[0m\n\u001b[1;32m    142\u001b[0m     \u001b[0;32mfor\u001b[0m \u001b[0msleep\u001b[0m \u001b[0;32min\u001b[0m \u001b[0msleep_generator\u001b[0m\u001b[0;34m:\u001b[0m\u001b[0;34m\u001b[0m\u001b[0;34m\u001b[0m\u001b[0m\n\u001b[1;32m    143\u001b[0m         \u001b[0;32mtry\u001b[0m\u001b[0;34m:\u001b[0m\u001b[0;34m\u001b[0m\u001b[0;34m\u001b[0m\u001b[0m\n\u001b[0;32m--> 144\u001b[0;31m             \u001b[0mresult\u001b[0m \u001b[0;34m=\u001b[0m \u001b[0mtarget\u001b[0m\u001b[0;34m(\u001b[0m\u001b[0;34m)\u001b[0m\u001b[0;34m\u001b[0m\u001b[0;34m\u001b[0m\u001b[0m\n\u001b[0m\u001b[1;32m    145\u001b[0m             \u001b[0;32mif\u001b[0m \u001b[0minspect\u001b[0m\u001b[0;34m.\u001b[0m\u001b[0misawaitable\u001b[0m\u001b[0;34m(\u001b[0m\u001b[0mresult\u001b[0m\u001b[0;34m)\u001b[0m\u001b[0;34m:\u001b[0m\u001b[0;34m\u001b[0m\u001b[0;34m\u001b[0m\u001b[0m\n\u001b[1;32m    146\u001b[0m                 \u001b[0mwarnings\u001b[0m\u001b[0;34m.\u001b[0m\u001b[0mwarn\u001b[0m\u001b[0;34m(\u001b[0m\u001b[0m_ASYNC_RETRY_WARNING\u001b[0m\u001b[0;34m)\u001b[0m\u001b[0;34m\u001b[0m\u001b[0;34m\u001b[0m\u001b[0m\n",
            "\u001b[0;32m/usr/local/lib/python3.11/dist-packages/google/api_core/timeout.py\u001b[0m in \u001b[0;36mfunc_with_timeout\u001b[0;34m(*args, **kwargs)\u001b[0m\n\u001b[1;32m    128\u001b[0m                 \u001b[0mkwargs\u001b[0m\u001b[0;34m[\u001b[0m\u001b[0;34m\"timeout\"\u001b[0m\u001b[0;34m]\u001b[0m \u001b[0;34m=\u001b[0m \u001b[0mremaining_timeout\u001b[0m\u001b[0;34m\u001b[0m\u001b[0;34m\u001b[0m\u001b[0m\n\u001b[1;32m    129\u001b[0m \u001b[0;34m\u001b[0m\u001b[0m\n\u001b[0;32m--> 130\u001b[0;31m             \u001b[0;32mreturn\u001b[0m \u001b[0mfunc\u001b[0m\u001b[0;34m(\u001b[0m\u001b[0;34m*\u001b[0m\u001b[0margs\u001b[0m\u001b[0;34m,\u001b[0m \u001b[0;34m**\u001b[0m\u001b[0mkwargs\u001b[0m\u001b[0;34m)\u001b[0m\u001b[0;34m\u001b[0m\u001b[0;34m\u001b[0m\u001b[0m\n\u001b[0m\u001b[1;32m    131\u001b[0m \u001b[0;34m\u001b[0m\u001b[0m\n\u001b[1;32m    132\u001b[0m         \u001b[0;32mreturn\u001b[0m \u001b[0mfunc_with_timeout\u001b[0m\u001b[0;34m\u001b[0m\u001b[0;34m\u001b[0m\u001b[0m\n",
            "\u001b[0;32m/usr/local/lib/python3.11/dist-packages/google/api_core/grpc_helpers.py\u001b[0m in \u001b[0;36merror_remapped_callable\u001b[0;34m(*args, **kwargs)\u001b[0m\n\u001b[1;32m     74\u001b[0m     \u001b[0;32mdef\u001b[0m \u001b[0merror_remapped_callable\u001b[0m\u001b[0;34m(\u001b[0m\u001b[0;34m*\u001b[0m\u001b[0margs\u001b[0m\u001b[0;34m,\u001b[0m \u001b[0;34m**\u001b[0m\u001b[0mkwargs\u001b[0m\u001b[0;34m)\u001b[0m\u001b[0;34m:\u001b[0m\u001b[0;34m\u001b[0m\u001b[0;34m\u001b[0m\u001b[0m\n\u001b[1;32m     75\u001b[0m         \u001b[0;32mtry\u001b[0m\u001b[0;34m:\u001b[0m\u001b[0;34m\u001b[0m\u001b[0;34m\u001b[0m\u001b[0m\n\u001b[0;32m---> 76\u001b[0;31m             \u001b[0;32mreturn\u001b[0m \u001b[0mcallable_\u001b[0m\u001b[0;34m(\u001b[0m\u001b[0;34m*\u001b[0m\u001b[0margs\u001b[0m\u001b[0;34m,\u001b[0m \u001b[0;34m**\u001b[0m\u001b[0mkwargs\u001b[0m\u001b[0;34m)\u001b[0m\u001b[0;34m\u001b[0m\u001b[0;34m\u001b[0m\u001b[0m\n\u001b[0m\u001b[1;32m     77\u001b[0m         \u001b[0;32mexcept\u001b[0m \u001b[0mgrpc\u001b[0m\u001b[0;34m.\u001b[0m\u001b[0mRpcError\u001b[0m \u001b[0;32mas\u001b[0m \u001b[0mexc\u001b[0m\u001b[0;34m:\u001b[0m\u001b[0;34m\u001b[0m\u001b[0;34m\u001b[0m\u001b[0m\n\u001b[1;32m     78\u001b[0m             \u001b[0;32mraise\u001b[0m \u001b[0mexceptions\u001b[0m\u001b[0;34m.\u001b[0m\u001b[0mfrom_grpc_error\u001b[0m\u001b[0;34m(\u001b[0m\u001b[0mexc\u001b[0m\u001b[0;34m)\u001b[0m \u001b[0;32mfrom\u001b[0m \u001b[0mexc\u001b[0m\u001b[0;34m\u001b[0m\u001b[0;34m\u001b[0m\u001b[0m\n",
            "\u001b[0;32m/usr/local/lib/python3.11/dist-packages/google/ai/generativelanguage_v1beta/services/model_service/transports/rest.py\u001b[0m in \u001b[0;36m__call__\u001b[0;34m(self, request, retry, timeout, metadata)\u001b[0m\n\u001b[1;32m    601\u001b[0m             \u001b[0;31m# subclass.\u001b[0m\u001b[0;34m\u001b[0m\u001b[0;34m\u001b[0m\u001b[0m\n\u001b[1;32m    602\u001b[0m             \u001b[0;32mif\u001b[0m \u001b[0mresponse\u001b[0m\u001b[0;34m.\u001b[0m\u001b[0mstatus_code\u001b[0m \u001b[0;34m>=\u001b[0m \u001b[0;36m400\u001b[0m\u001b[0;34m:\u001b[0m\u001b[0;34m\u001b[0m\u001b[0;34m\u001b[0m\u001b[0m\n\u001b[0;32m--> 603\u001b[0;31m                 \u001b[0;32mraise\u001b[0m \u001b[0mcore_exceptions\u001b[0m\u001b[0;34m.\u001b[0m\u001b[0mfrom_http_response\u001b[0m\u001b[0;34m(\u001b[0m\u001b[0mresponse\u001b[0m\u001b[0;34m)\u001b[0m\u001b[0;34m\u001b[0m\u001b[0;34m\u001b[0m\u001b[0m\n\u001b[0m\u001b[1;32m    604\u001b[0m \u001b[0;34m\u001b[0m\u001b[0m\n\u001b[1;32m    605\u001b[0m             \u001b[0;31m# Return the response\u001b[0m\u001b[0;34m\u001b[0m\u001b[0;34m\u001b[0m\u001b[0m\n",
            "\u001b[0;31mBadRequest\u001b[0m: 400 POST https://generativelanguage.googleapis.com/v1beta/tunedModels?tunedModelId=generate-num-2752&%24alt=json%3Benum-encoding%3Dint: * CreateTunedModelRequest.tuned_model.tuning_task.training_data: Batch size should be no larger than training examples size.\n* CreateTunedModelRequest.tuned_model.tuning_task.training_data.examples.examples[0].output: output is too long. The maximum character count accepted is 5000.\n"
          ]
        }
      ],
      "source": [
        "import random\n",
        "\n",
        "name = f'generate-num-{random.randint(0,10000)}'\n",
        "operation = genai.create_tuned_model(\n",
        "    # You can use a tuned model here too. Set `source_model=\"tunedModels/...\"`\n",
        "    # source_model=base_model.name,\n",
        "    source_model = 'models/gemini-1.5-flash-001-tuning',\n",
        "    training_data=[\n",
        "       {\n",
        "    \"text_input\": \"Here's a thinking process for refactoring `run_task_on_active_models`:\\n\\n1.  **Understand the Goal:** The request is to simplify the `run_task_on_active_models` function by breaking it down into smaller, more focused functions. Specifically, the goal is to separate the logic for *identifying and initializing* active models from the logic of *running the task* using those initialized models.\\n\\n2.  **Analyze the Current `run_task_on_active_models`:**\\n    *   **Input:** `app_config` (contains `models_to_use` dict), `task` (string).\\n    *   **Output:** `Optional[Dict[str, Optional[str]]]` (results per model provider).\\n    *   **Steps:**\\n        *   Validate `app_config.models_to_use`.\\n        *   Initialize `results` dictionary and flags (`active_model_found`, `active_models_to_run`).\\n        *   **First Loop:** Iterate through `models_to_use` to identify active models (`status == 'active'`) and store their keys in `active_models_to_run`.\\n        *   Check if any active models were found. If not, log an error and return `None`.\\n        *   Log the list of active models.\\n        *   **Second Loop:** Iterate through `models_to_use` *again*.\\n        *   Skip inactive models (check against `active_models_to_run`).\\n        *   Check if `model_name` exists.\\n        *   **Initialization Logic:**\\n            *   Use `if/elif/else` based on `provider_key` (`gemini`, `openai`, etc.).\\n            *   Get the API key from `os.getenv`.\\n            *   Check if the key exists.\\n            *   If key exists, instantiate the corresponding `Chat...` class (`ChatGoogleGenerativeAI` or `ChatOpenAI`).\\n            *   Set `model_initialized` flag.\\n            *   Log success/failure of initialization.\\n            *   Handle unknown providers.\\n            *   Handle exceptions during initialization.\\n        *   **Task Execution Logic:**\\n            *   If `model_initialized` is true and `llm_instance` is not `None`:\\n                *   Call `await _run_agent_task(llm_instance, task)`.\\n                *   Store the result in the `results` dictionary.\\n            *   Else (initialization failed):\\n                *   Store `None` in the `results` dictionary.\\n                *   Log a warning.\\n        *   Return the `results` dictionary.\\n\\n3.  **Identify Areas for Separation:**\\n    *   The first loop and the initial checks (finding active models) seem like a distinct responsibility: \\\"Get Active Model Configurations\\\".\\n    *   The second loop combines *initialization* and *execution*. The initialization part (getting keys, creating LLM instances) can be separated.\\n    *   The execution part (calling `_run_agent_task` for each successfully initialized model) is another distinct step.\\n\\n4.  **Design New Functions:**\\n\\n    *   **`_get_active_model_configs(app_config: Config) -> Dict[str, Dict[str, str]]`:**\\n        *   Takes `app_config`.\\n        *   Iterates through `app_config.models_to_use`.\\n        *   Filters for `status == 'active'`.\\n        *   Returns a *new dictionary* containing only the configurations of active models (provider key -> model details dict).\\n        *   Handles the case where `models_to_use` is invalid or no active models are found (maybe return an empty dict or raise an error? Returning an empty dict seems simpler for the caller).\\n\\n    *   **`_initialize_llm(provider_key: str, model_details: Dict[str, str]) -> Optional[BaseChatModel]`:**\\n        *   Takes the `provider_key` (e.g., 'gemini') and its `model_details` dictionary.\\n        *   Checks for `model_name`.\\n        *   Gets the correct API key using `os.getenv` based on `provider_key`.\\n        *   Checks if the key exists.\\n        *   Instantiates the appropriate `Chat...` class.\\n        *   Handles initialization errors (log and return `None`).\\n        *   Handles unknown providers (log and return `None`).\\n        *   Returns the initialized `BaseChatModel` instance or `None` if initialization fails.\\n\\n    *   **Revised `run_task_on_active_models(app_config: Config, task: str) -> Optional[Dict[str, Optional[str]]]`:**\\n        *   Call `_get_active_model_configs`.\\n        *   If the result is empty, log and return `None`.\\n        *   Create an empty `results` dictionary.\\n        *   Create a list of tasks to run concurrently using `asyncio.gather`.\\n        *   **Loop** through the *active model configs*:\\n            *   Call `_initialize_llm` for the current model config.\\n            *   If initialization is successful (`llm_instance` is not `None`):\\n                *   Create a coroutine: `_run_agent_task(llm_instance, task)`.\\n                *   Store this coroutine along with the `provider_key` (maybe in a list of tuples `(provider_key, coroutine)`).\\n            *   If initialization fails:\\n                *   Add the `provider_key` with a `None` result directly to the `results` dictionary.\\n        *   Use `asyncio.gather` to run all the created agent task coroutines concurrently.\\n        *   Process the results from `asyncio.gather`, matching them back to their `provider_key` and adding them to the `results` dictionary.\\n        *   Return the final `results` dictionary.\\n\\n5.  **Refine the Design:**\\n    *   Using `asyncio.gather` is good for concurrency. We need to map the results back. Instead of a separate list of tuples, maybe create the coroutines and then run them?\\n    *   Let's simplify the flow within the revised `run_task_on_active_models`:\\n        1.  Get active configs using `_get_active_model_configs`.\\n        2.  If empty, return `None`.\\n        3.  Initialize `tasks_to_run = []` and `results = {}`.\\n        4.  Iterate through active configs:\\n            *   Try initializing using `_initialize_llm`.\\n            *   If successful, add `(provider_key, _run_agent_task(llm, task))` to `tasks_to_run`.\\n            *   If failed, add `results[provider_key] = None`.\\n        5.  Extract just the coroutines: `coroutines = [t[1] for t in tasks_to_run]`.\\n        6.  Run `gathered_results = await asyncio.gather(*coroutines, return_exceptions=True)`. Using `return_exceptions=True` is safer.\\n        7.  Iterate through `tasks_to_run` and `gathered_results` together (using `zip` or index):\\n            *   Get the `provider_key` from `tasks_to_run`.\\n            *   Get the corresponding result/exception from `gathered_results`.\\n            *   If it's an exception, log it and set `results[provider_key] = None`.\\n            *   If it's a valid result, set `results[provider_key] = result`.\\n        8.  Return `results`.\\n\\n6.  **Implement the Code:** Write the Python code for the new functions (`_get_active_model_configs`, `_initialize_llm`) and the refactored `run_task_on_active_models` based on the refined design. Add necessary logging and type hints.\\n\\n7.  **Test (Mentally or Actually):**\\n    *   What if `models_to_use` is empty or invalid? `_get_active_model_configs` should handle it, `run_task_on_active_models` should return `None`.\\n    *   What if no models are active? `_get_active_model_configs` returns empty, `run_task_on_active_models` returns `None`.\\n    *   What if an API key is missing? `_initialize_llm` should return `None`, and `run_task_on_active_models` should record `None` for that provider.\\n    *   What if LLM initialization throws an unexpected error? `_initialize_llm` should catch it, log, return `None`.\\n    *   What if `_run_agent_task` throws an error? `asyncio.gather(return_exceptions=True)` will catch it, and the final loop in `run_task_on_active_models` will handle the exception, logging it and setting the result to `None`.\\n    *   What if one model succeeds and another fails initialization? The results dictionary should reflect this correctly.\\n    *   What if one model succeeds and another fails during execution? The results dictionary should reflect this correctly.\\n\\n8.  **Review and Document:** Add docstrings to the new functions explaining their purpose, arguments, and return values. Ensure logging is clear and helpful. Update the docstring for `run_task_on_active_models` to reflect the changes. Make sure imports and type hints are correct. Ensure the original functionality is preserved.\",\n",
        "    \"output\": \"Loop:** Iterate through `models_to_use` to identify active models (`status == 'active'`) and store their keys in `active_models_to_run`. * Check if any active models were found. If not, log an error and return `None`. * Log the list of active models. * **Second Loop:** Iterate through `models_to_use` *again*. * Skip inactive models (check against `active_models_to_run`). * Check if `model_name` exists. * **Initialization Logic:** * Use `if/elif/else` based on `provider_key` (`gemini`, `openai`, etc.). * Get the API key from `os.getenv`. * Check if the key exists. * If key exists, instantiate the corresponding `Chat...` class (`ChatGoogleGenerativeAI` or `ChatOpenAI`). * Set `model_initialized` flag. * Log success/failure of initialization. * Handle unknown providers. * Handle exceptions during initialization. * **Task Execution Logic:** * If `model_initialized` is true and `llm_instance` is not `None`: * Call `await _run_agent_task(llm_instance, task)`. * Store the result in the `results` dictionary. * Else (initialization failed): * Store `None` in the `results` dictionary. * Log a warning. * Return the `results` dictionary. 3. **Identify Areas for Separation:** * The first loop and the initial checks (finding active models) seem like a distinct responsibility: \\\\\\\"Get Active Model Configurations\\\\\\\". * The second loop combines *initialization* and *execution*. The initialization part (getting keys, creating LLM instances) can be separated. * The execution part (calling `_run_agent_task` for each successfully initialized model) is another distinct step. 4. **Design New Functions:** * **`_get_active_model_configs(app_config: Config) -> Dict[str, Dict[str, str]]`:** * Takes `app_config`. * Iterates through `app_config.models_to_use`. * Filters for `status == 'active'`. * Returns a *new dictionary* containing only the configurations of active models (provider key -> model details dict). * Handles the case where `models_to_use` is invalid or no active models are found (maybe return an empty dict or raise an error? Returning an empty dict seems simpler for the caller). * **`_initialize_llm(provider_key: str, model_details: Dict[str, str]) -> Optional[BaseChatModel]`:** * Takes the `provider_key` (e.g., 'gemini') and its `model_details` dictionary. * Checks for `model_name`. * Gets the correct API key using `os.getenv` based on `provider_key`. * Checks if the key exists. * Instantiates the appropriate `Chat...` class. * Handles initialization errors (log and return `None`). * Handles unknown providers (log and return `None`). * Returns the initialized `BaseChatModel` instance or `None` if initialization fails. * **Revised `run_task_on_active_models(app_config: Config, task: str) -> Optional[Dict[str, Optional[str]]]`:** * Call `_get_active_model_configs`. * If the result is empty, log and return `None`. * Create an empty `results` dictionary. * Create a list of tasks to run concurrently using `asyncio.gather`. * **Loop** through the *active model configs*: * Call `_initialize_llm` for the current model config. * If initialization is successful (`llm_instance` is not `None`): * Create a coroutine: `_run_agent_task(llm_instance, task)`. * Store this coroutine along with the `provider_key` (maybe in a list of tuples `(provider_key, coroutine)`). * If initialization fails: * Add the `provider_key` with a `None` result directly to the `results` dictionary. * Use `asyncio.gather` to run all the created agent task coroutines concurrently. * Process the results from `asyncio.gather`, matching them back to their `provider_key` and adding them to the `results` dictionary. * Return the final `results` dictionary. 5. **Refine the Design:** * Using `asyncio.gather` is good for concurrency. We need to map the results back. Instead of a separate list of tuples, maybe create the coroutines and then run them? * Let's simplify the flow within the revised `run_task_on_active_models`: 1. Get active configs using `_get_active_model_configs`. 2. If empty, return `None`. 3. Initialize `tasks_to_run = []` and `results = {}`. 4. Iterate through active configs: * Try initializing using `_initialize_llm`. * If successful, add `(provider_key, _run_agent_task(llm, task))` to `tasks_to_run`. * If failed, add `results[provider_key] = None`. 5. Extract just the coroutines: `coroutines = [t[1] for t in tasks_to_run]`. 6. Run `gathered_results = await asyncio.gather(*coroutines, return_exceptions=True)`. Using `return_exceptions=True` is safer. 7. Iterate through `tasks_to_run` and `gathered_results` together (using `zip` or index): * Get the `provider_key` from `tasks_to_run`. * Get the corresponding result/exception from `gathered_results`. * If it's an exception, log it and set `results[provider_key] = None`. * If it's a valid result, set `results[provider_key] = result`. 8. Return `results`. 6. **Implement the Code:** Write the Python code for the new functions (`_get_active_model_configs`, `_initialize_llm`) and the refactored `run_task_on_active_models` based on the refined design. Add necessary logging and type hints. 7. **Test (Mentally or Actually):** * What if `models_to_use` is empty or invalid? `_get_active_model_configs` should handle it, `run_task_on_active_models` should return `None`. * What if no models are active? `_get_active_model_configs` returns empty, `run_task_on_active_models` returns `None`. * What if an API key is missing? `_initialize_llm` should return `None`, and `run_task_on_active_models` should record `None` for that provider. * What if LLM initialization throws an unexpected error? `_initialize_llm` should catch it, log, return `None`. * What if `_run_agent_task` throws an error? `asyncio.gather(return_exceptions=True)` will catch it, and the final loop in `run_task_on_active_models` will handle the exception, logging it and setting the result to `None`. * What if one model succeeds and another fails initialization? The results dictionary should reflect this correctly. * What if one model succeeds and another fails during execution? The results dictionary should reflect this correctly. 8. **Review and Document:** Add docstrings to the new functions explaining their purpose, arguments, and return values. Ensure logging is clear and helpful. Update the docstring for `run_task_on_active_models` to reflect the changes. Make sure imports and type hints are correct. Ensure the original functionality is preserved.\"\n",
        "}\n",
        "    ]\n",
        "        ,\n",
        "    id = name,\n",
        "    epoch_count = 100,\n",
        "    batch_size=4,\n",
        "    learning_rate=0.001,\n",
        ")"
      ]
    },
    {
      "cell_type": "markdown",
      "metadata": {
        "id": "-As7ayWDK1w8"
      },
      "source": [
        "Your tuned model is immediately added to the list of tuned models, but its status is set to \"creating\" while the model is tuned."
      ]
    },
    {
      "cell_type": "code",
      "execution_count": null,
      "metadata": {
        "id": "su64KgY4Uztj",
        "outputId": "1a014c20-1662-4af1-cf1c-e1e35958565d"
      },
      "outputs": [
        {
          "data": {
            "text/plain": [
              "TunedModel(name='tunedModels/generate-num-8122',\n",
              "           source_model='models/gemini-1.5-flash-001-tuning',\n",
              "           base_model='models/gemini-1.5-flash-001-tuning',\n",
              "           display_name='',\n",
              "           description='',\n",
              "           temperature=1.0,\n",
              "           top_p=0.95,\n",
              "           top_k=64,\n",
              "           state=<State.CREATING: 1>,\n",
              "           create_time=datetime.datetime(2024, 10, 21, 21, 42, 55, 748537, tzinfo=datetime.timezone.utc),\n",
              "           update_time=datetime.datetime(2024, 10, 21, 21, 42, 55, 748537, tzinfo=datetime.timezone.utc),\n",
              "           tuning_task=TuningTask(start_time=None,\n",
              "                                  complete_time=None,\n",
              "                                  snapshots=[],\n",
              "                                  hyperparameters=Hyperparameters(epoch_count=100,\n",
              "                                                                  batch_size=4,\n",
              "                                                                  learning_rate=0.001)),\n",
              "           reader_project_numbers=None)"
            ]
          },
          "execution_count": 8,
          "metadata": {},
          "output_type": "execute_result"
        }
      ],
      "source": [
        "model = genai.get_tuned_model(f'tunedModels/{name}')\n",
        "\n",
        "model"
      ]
    },
    {
      "cell_type": "code",
      "execution_count": null,
      "metadata": {
        "id": "EUodUwZkKPi-",
        "outputId": "d8359dcd-c1b9-4546-d5ee-4ccf337575d4"
      },
      "outputs": [
        {
          "data": {
            "text/plain": [
              "<State.CREATING: 1>"
            ]
          },
          "execution_count": 9,
          "metadata": {},
          "output_type": "execute_result"
        }
      ],
      "source": [
        "model.state"
      ]
    },
    {
      "cell_type": "markdown",
      "metadata": {
        "id": "Pi8X5vkQv-3_"
      },
      "source": [
        "### Check tuning progress"
      ]
    },
    {
      "cell_type": "markdown",
      "metadata": {
        "id": "tWI-vAh4LJIz"
      },
      "source": [
        "Use `metadata` to check the state:"
      ]
    },
    {
      "cell_type": "code",
      "execution_count": null,
      "metadata": {
        "id": "g08vqtxYLMxT",
        "outputId": "2807ecaa-73e7-4c8d-ec26-cd9c538b43fd"
      },
      "outputs": [
        {
          "data": {
            "text/plain": [
              "total_steps: 375\n",
              "tuned_model: \"tunedModels/generate-num-8122\""
            ]
          },
          "execution_count": 10,
          "metadata": {},
          "output_type": "execute_result"
        }
      ],
      "source": [
        "operation.metadata"
      ]
    },
    {
      "cell_type": "markdown",
      "metadata": {
        "id": "3lQ6gSMgK-kz"
      },
      "source": [
        "Wait for the training to finish using `operation.result()`, or `operation.wait_bar()`"
      ]
    },
    {
      "cell_type": "code",
      "execution_count": null,
      "metadata": {
        "id": "SOUowIv1HgSE",
        "outputId": "24468ca3-bfe1-4a2b-a8ff-8c6b74c90b52",
        "colab": {
          "referenced_widgets": [
            "32da6e78695a43fe8dae58e9e6f55f76"
          ]
        }
      },
      "outputs": [
        {
          "data": {
            "application/vnd.jupyter.widget-view+json": {
              "model_id": "32da6e78695a43fe8dae58e9e6f55f76",
              "version_major": 2,
              "version_minor": 0
            },
            "text/plain": [
              "  0%|          | 0/375 [00:00<?, ?it/s]"
            ]
          },
          "metadata": {},
          "output_type": "display_data"
        }
      ],
      "source": [
        "import time\n",
        "\n",
        "for status in operation.wait_bar():\n",
        "  time.sleep(30)"
      ]
    },
    {
      "cell_type": "markdown",
      "metadata": {
        "id": "4cg868HzqOx5"
      },
      "source": [
        "You can cancel your tuning job any time using the `cancel()` method. Uncomment the line below and run the code cell to cancel your job before it finishes."
      ]
    },
    {
      "cell_type": "code",
      "execution_count": null,
      "metadata": {
        "id": "oQuJ70_hqJi9"
      },
      "outputs": [],
      "source": [
        "# operation.cancel()"
      ]
    },
    {
      "cell_type": "markdown",
      "metadata": {
        "id": "lqiL0TWDqAPn"
      },
      "source": [
        "Once the tuning is complete, you can view the loss curve from the tuning results. The [loss curve](https://ai.google.dev/gemini-api/docs/model-tuning#recommended_configurations) shows how much the model's predictions deviate from the ideal outputs."
      ]
    },
    {
      "cell_type": "code",
      "execution_count": null,
      "metadata": {
        "id": "bIiG57xWLhP7",
        "outputId": "454a05d7-6fc4-4a9d-a5be-087be6a3251b"
      },
      "outputs": [
        {
          "data": {
            "text/plain": [
              "<Axes: xlabel='epoch', ylabel='mean_loss'>"
            ]
          },
          "execution_count": 13,
          "metadata": {},
          "output_type": "execute_result"
        },
        {
          "data": {
            "image/png": "[encoded data removed]",
            "text/plain": [
              "<Figure size 640x480 with 1 Axes>"
            ]
          },
          "metadata": {},
          "output_type": "display_data"
        }
      ],
      "source": [
        "import pandas as pd\n",
        "import seaborn as sns\n",
        "\n",
        "model = operation.result()\n",
        "\n",
        "snapshots = pd.DataFrame(model.tuning_task.snapshots)\n",
        "\n",
        "sns.lineplot(data=snapshots, x = 'epoch', y='mean_loss')\n"
      ]
    },
    {
      "cell_type": "markdown",
      "metadata": {
        "id": "rkoQTXb1vSBC"
      },
      "source": [
        "## Evaluate your model\n",
        "\n",
        "You can use the `genai.generate_content` method and specify the name of your model to test your model performance."
      ]
    },
    {
      "cell_type": "code",
      "execution_count": null,
      "metadata": {
        "id": "zO0YcuSyxydZ"
      },
      "outputs": [],
      "source": [
        "model = genai.GenerativeModel(model_name=f'tunedModels/{name}')"
      ]
    },
    {
      "cell_type": "code",
      "execution_count": null,
      "metadata": {
        "id": "UwGrrj6hS_x2",
        "outputId": "a697b60f-f0f7-476c-b8e1-fe457afccee6"
      },
      "outputs": [
        {
          "data": {
            "application/vnd.google.colaboratory.intrinsic+json": {
              "type": "string"
            },
            "text/plain": [
              "'56'"
            ]
          },
          "execution_count": 15,
          "metadata": {},
          "output_type": "execute_result"
        }
      ],
      "source": [
        "result = model.generate_content('55')\n",
        "result.text"
      ]
    },
    {
      "cell_type": "code",
      "execution_count": null,
      "metadata": {
        "id": "YSNB2zjTx5SZ",
        "outputId": "a3fde466-f0c1-4bec-ed87-e9181c8ce711"
      },
      "outputs": [
        {
          "data": {
            "application/vnd.google.colaboratory.intrinsic+json": {
              "type": "string"
            },
            "text/plain": [
              "'123456'"
            ]
          },
          "execution_count": 16,
          "metadata": {},
          "output_type": "execute_result"
        }
      ],
      "source": [
        "result = model.generate_content('123455')\n",
        "result.text"
      ]
    },
    {
      "cell_type": "code",
      "execution_count": null,
      "metadata": {
        "id": "Y2YVO-m0Ut9H",
        "outputId": "ea6f9503-c614-4a7a-e0a6-370ca9bf6e6d"
      },
      "outputs": [
        {
          "data": {
            "application/vnd.google.colaboratory.intrinsic+json": {
              "type": "string"
            },
            "text/plain": [
              "'five'"
            ]
          },
          "execution_count": 17,
          "metadata": {},
          "output_type": "execute_result"
        }
      ],
      "source": [
        "result = model.generate_content('four')\n",
        "result.text"
      ]
    },
    {
      "cell_type": "code",
      "execution_count": null,
      "metadata": {
        "id": "h2MkTR0uTb6U",
        "outputId": "a2837962-ac43-4a5a-e26a-e7a71c6d9e4d"
      },
      "outputs": [
        {
          "data": {
            "application/vnd.google.colaboratory.intrinsic+json": {
              "type": "string"
            },
            "text/plain": [
              "'cinq'"
            ]
          },
          "execution_count": 18,
          "metadata": {},
          "output_type": "execute_result"
        }
      ],
      "source": [
        "result = model.generate_content('quatre') # French 4\n",
        "result.text                               # French 5 is \"cinq\""
      ]
    },
    {
      "cell_type": "code",
      "execution_count": null,
      "metadata": {
        "id": "OruCW1zETsZw",
        "outputId": "e01491ca-aaa2-4187-8116-25d49314da6a"
      },
      "outputs": [
        {
          "data": {
            "application/vnd.google.colaboratory.intrinsic+json": {
              "type": "string"
            },
            "text/plain": [
              "'IV'"
            ]
          },
          "execution_count": 19,
          "metadata": {},
          "output_type": "execute_result"
        }
      ],
      "source": [
        "result = model.generate_content('III')    # Roman numeral 3\n",
        "result.text                               # Roman numeral 4 is IV"
      ]
    },
    {
      "cell_type": "code",
      "execution_count": null,
      "metadata": {
        "id": "thDdSuUDUJOx",
        "outputId": "f3b8b74d-980f-49f3-952a-8afd3038bcb6"
      },
      "outputs": [
        {
          "data": {
            "application/vnd.google.colaboratory.intrinsic+json": {
              "type": "string"
            },
            "text/plain": [
              "'八'"
            ]
          },
          "execution_count": 20,
          "metadata": {},
          "output_type": "execute_result"
        }
      ],
      "source": [
        "result = model.generate_content('七')  # Japanese 7\n",
        "result.text                            # Japanese 8 is 八!"
      ]
    },
    {
      "cell_type": "markdown",
      "metadata": {
        "id": "HpIA1IFevQQR"
      },
      "source": [
        "It really seems to have picked up the task despite the limited examples, but \"next\" is a simple concept, see the [tuning guide](https://ai.google.dev/gemini-api/docs/model-tuning) for more guidance on improving performance."
      ]
    },
    {
      "cell_type": "markdown",
      "metadata": {
        "id": "nmuQCbTYwIOx"
      },
      "source": [
        "## Update the description\n",
        "\n",
        "You can update the description of your tuned model any time using the `genai.update_tuned_model` method."
      ]
    },
    {
      "cell_type": "code",
      "execution_count": null,
      "metadata": {
        "id": "9gAVuXT_wG3x"
      },
      "outputs": [],
      "source": [
        "genai.update_tuned_model(f'tunedModels/{name}', {\"description\":\"This is my model.\"});"
      ]
    },
    {
      "cell_type": "code",
      "execution_count": null,
      "metadata": {
        "id": "d-c3YerBxVYs",
        "outputId": "e67dd3a0-38eb-4b39-b06f-6e53b17707b6"
      },
      "outputs": [
        {
          "data": {
            "application/vnd.google.colaboratory.intrinsic+json": {
              "type": "string"
            },
            "text/plain": [
              "'This is my model.'"
            ]
          },
          "execution_count": 22,
          "metadata": {},
          "output_type": "execute_result"
        }
      ],
      "source": [
        "model = genai.get_tuned_model(f'tunedModels/{name}')\n",
        "\n",
        "model.description"
      ]
    },
    {
      "cell_type": "markdown",
      "metadata": {
        "id": "i_TpwvBB4bQ7"
      },
      "source": [
        "## Delete the model\n",
        "\n",
        "You can clean up your tuned model list by deleting models you no longer need. Use the `genai.delete_tuned_model` method to delete a model. If you canceled any tuning jobs, you may want to delete those as their performance may be unpredictable."
      ]
    },
    {
      "cell_type": "code",
      "execution_count": null,
      "metadata": {
        "id": "cepfaUCvVGCo"
      },
      "outputs": [],
      "source": [
        "genai.delete_tuned_model(f'tunedModels/{name}')"
      ]
    },
    {
      "cell_type": "markdown",
      "metadata": {
        "id": "ljEssIshYDEr"
      },
      "source": [
        "The model no longer exists:"
      ]
    },
    {
      "cell_type": "code",
      "execution_count": null,
      "metadata": {
        "id": "kN_bkut_4ayL",
        "outputId": "d5ccb0fb-33f7-475e-9ad8-adfb7a1a3338"
      },
      "outputs": [
        {
          "name": "stdout",
          "output_type": "stream",
          "text": [
            "<class 'google.api_core.exceptions.NotFound'>: 404 GET https://generativelanguage.googleapis.com/v1beta/tunedModels/generate-num-8122?%24alt=json%3Benum-encoding%3Dint: Tuned model tunedModels/generate-num-8122 does not exist.\n"
          ]
        },
        {
          "name": "stderr",
          "output_type": "stream",
          "text": [
            "WARNING:tornado.access:404 GET /v1beta/tunedModels/generate-num-8122?%24alt=json%3Benum-encoding%3Dint (127.0.0.1) 838.85ms\n"
          ]
        }
      ],
      "source": [
        "try:\n",
        "  m = genai.get_tuned_model(f'tunedModels/{name}')\n",
        "  print(m)\n",
        "except Exception as e:\n",
        "  print(f\"{type(e)}: {e}\")"
      ]
    }
  ],
  "metadata": {
    "colab": {
      "provenance": [],
      "include_colab_link": true
    },
    "kernelspec": {
      "display_name": "Python 3",
      "name": "python3"
    }
  },
  "nbformat": 4,
  "nbformat_minor": 0
}