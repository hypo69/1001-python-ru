{
 "cells": [
  {
   "cell_type": "markdown",
   "source": [
    "`from __future__ import annotations` - esta es una directiva en Python que afecta cómo se manejan las anotaciones de tipo. Fue introducida en Python 3.7 y estaba destinada a convertirse en el comportamiento predeterminado en Python 3.10 (aunque esto se pospuso, y ahora está planeado para Python 4.0).\n",
    "\n",
    "**El problema que resuelve esta directiva:**\n",
    "\n",
    "En Python, a partir de la versión 3.0, fue posible agregar anotaciones de tipo a variables, argumentos de función y valores de retorno. Esto es útil para el análisis estático del código (por ejemplo, usando MyPy) y para mejorar la legibilidad. Sin embargo, antes de la introducción de `from __future__ import annotations`, el intérprete de Python intentaba evaluar las anotaciones de tipo en tiempo de ejecución. Esto podría llevar a problemas, especialmente en casos de dependencias circulares entre clases, cuando una clase se refiere a otra en una anotación de tipo.\n",
    "\n",
    "**Cómo funciona `from __future__ import annotations`:**\n",
    "\n",
    "Esta directiva cambia la forma en que se procesan las anotaciones de tipo. En lugar de una evaluación inmediata, las anotaciones se almacenan como cadenas. Esto significa que el intérprete no intenta encontrar y cargar clases u otros objetos mencionados en las anotaciones hasta que realmente sean necesarios.\n",
    "\n",
    "**Ventajas de usar `from __future__ import annotations`:**\n",
    "\n",
    "*   **Resolución de problemas con importaciones circulares:** Como se mencionó, esta directiva ayuda a evitar errores relacionados con dependencias circulares entre clases.\n",
    "*   **Mejora del rendimiento:** La evaluación diferida de las anotaciones puede acelerar ligeramente el inicio del programa, especialmente si hay muchas anotaciones.\n",
    "*   **Sintaxis más flexible:** Permite usar expresiones más complejas en las anotaciones que antes podían causar errores.\n",
    "\n",
    "**Ejemplo:**\n",
    "\n",
    "Sin `from __future__ import annotations`:"]
  },
  {
   "cell_type": "code",
   "source": [
    "class A:\n",
    "    def __init__(self, b: B):\n",
    "        self.b = b\n",
    "\n",
    "class B:\n",
    "    def __init__(self, a: A):\n",
    "        self.a = a\n",
    "\n",
    "# La creación de instancias causará un NameError, porque B no está definido cuando A está definido."
   ]
  },
  {
   "cell_type": "markdown",
   "source": [
    