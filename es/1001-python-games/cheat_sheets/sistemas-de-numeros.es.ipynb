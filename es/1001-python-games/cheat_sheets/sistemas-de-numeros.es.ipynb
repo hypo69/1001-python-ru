# Sistemas de numeración

¡Hola! Comencemos nuestra inmersión en el fascinante mundo de los sistemas de numeración. ¡Prepárate, hoy aprenderás muchas cosas nuevas e interesantes!

# Sistemas de numeración

**1. Sistema de numeración abstracto**

Imagina que los números son como palabras que se pueden escribir con diferentes "letras". No importa cómo denotemos los números, lo principal es que se cumplan ciertas reglas:

*   **Base:** Es la cantidad de símbolos (dígitos) únicos que usamos. Denotemos la base como `b`. Por ejemplo, en el sistema decimal, la base es 10.
*   **Dígitos:** Son los símbolos que usamos para escribir números. Normalmente son dígitos arábigos (0, 1, 2, 3, ...), pero también se pueden usar otros símbolos, por ejemplo, letras latinas (I, V, X) o incluso frutas (🍎, 🍐, 🍉).
*   **Posición:** Cada dígito en la representación de un número tiene su propia posición, lo que afecta su valor. Esto significa que el mismo dígito puede tener un valor diferente dependiendo de dónde se encuentre en el número.
*   **Órdenes:** Cada posición se llama orden (por ejemplo, unidades, decenas, centenas, etc.). En cada posición, el valor del dígito se multiplica por la base elevada a la potencia correspondiente a su número de orden.

**¿Cómo se construye un sistema de numeración?**

1.  **Elección de la base:** Elegimos un número entero `b` que será la base de nuestro sistema.
2.  **Elección de los dígitos:** Necesitamos `b` dígitos únicos. Normalmente son 0, 1, 2, ..., `b-1`. Por ejemplo, para el sistema binario (base 2), tenemos los dígitos 0 y 1.
3.  **Escritura de un número:** Un número se escribe como una secuencia de dígitos. El valor de cada dígito se multiplica por la base, elevada a la potencia igual a su posición (comenzando desde 0 a la derecha).

**Fórmula para calcular el valor de un número:**

Si tenemos un número escrito como una secuencia de dígitos `dₙ dₙ₋₁ ... d₁ d₀`, entonces su valor en el sistema decimal se puede calcular con la fórmula:

`valor = dₙ * bⁿ + dₙ₋₁ * bⁿ⁻¹ + ... + d₁ * b¹ + d₀ * b⁰`

Donde:

*   `dᵢ` - dígito en el i-ésimo orden
*   `b` - base del sistema de numeración
*   `i` - número de orden (de derecha a izquierda, comenzando desde 0)

**Ejemplo:**

Supongamos que tenemos el número 123 en el sistema decimal (base 10). Según la fórmula:

`1 * 10² + 2 * 10¹ + 3 * 10⁰ = 100 + 20 + 3 = 123`

**Órdenes de numeración (posiciones):**

Los órdenes, como ya hemos dicho, son las posiciones de los dígitos en un número, cada posición tiene su propio peso, que se determina por la base elevada a la potencia de su número ordinal.
*   `d₀`: unidades (`b⁰`)
*   `d₁`: `b` (`b¹`)
*   `d₂`: `b²`
*   `d₃`: `b³`
*   y así sucesivamente

**Reglas:**

1.  **Rango de dígitos:** Se utilizan dígitos del 0 a `b-1`.
2.  **Principio posicional:** El valor de un dígito depende de su posición.
3.  **Transición al siguiente orden:** Cuando se alcanza el valor `b` en un orden, se produce un acarreo al siguiente orden (análogo a cómo después del 9 en el sistema decimal se suma 1 al siguiente orden y se obtiene 10).

## Ejemplo: Sistema de numeración de frutas

Consideremos un ejemplo de un sistema de numeración abstracto con frutas:

*   🍎 (manzana)
*   🍐 (pera)
*   🍉 (melón)
*   🧺 (cesta)

**Reglas:**

1.  3 🍎 = 1 🍐
2.  5 🍐 = 3 🍉
3.  2 🍉 = 1 🧺

**Representación de números:**

Representaremos la cantidad de frutas como una cadena, donde cada símbolo Unicode corresponde a una fruta. Por ejemplo, "🍎🍎🍎" son 3 manzanas, y "🍉🍉" son 2 melones.

**Operaciones aritméticas:**

Podemos realizar operaciones de suma y resta. Primero, hagamos la suma.

**Código Python:**

```python
def normalize_fruits(fruits: str) -> str:
    """
    Normaliza una cadena de frutas, llevándola a su representación mínima,
    usando las reglas de intercambio de frutas.

    Args:
        fruits: Cadena de frutas (🍎, 🍐, 🍉, 🧺).

    Returns:
        Cadena con el recuento de frutas normalizado.
    """
    apples = fruits.count('🍎')
    pears = fruits.count('🍐')
    melons = fruits.count('🍉')
    baskets = fruits.count('🧺')

    # Convertir manzanas a peras
    pears += apples // 3
    apples %= 3

    # Convertir peras a melones
    melons += (pears * 3) // 5
    pears %= 5

    # Convertir melones a cestas
    baskets += melons // 2
    melons %= 2

    # Reensamblar la cadena, primero cestas, luego melones, peras, manzanas
    return (
        "🧺" * baskets
        + "🍉" * melons
        + "🍐" * pears
        + "🍎" * apples
    )

def add_fruits(fruits1: str, fruits2: str) -> str:
    """
    Suma dos cadenas de frutas.

    Args:
        fruits1: Cadena de frutas.
        fruits2: Cadena de frutas.

    Returns:
        Cadena con la suma de frutas.
    """
    return normalize_fruits(fruits1 + fruits2)

def sub_fruits(fruits1: str, fruits2: str) -> str:
    """
    Resta la segunda cadena de frutas de la primera, si es posible.

    Args:
        fruits1: Cadena de frutas, de la que restamos.
        fruits2: Cadena de frutas, que restamos.

    Returns:
        Cadena con la diferencia de frutas o "No se puede restar", si el resultado es negativo.
    """

    apples1 = fruits1.count('🍎')
    pears1 = fruits1.count('🍐')
    melons1 = fruits1.count('🍉')
    baskets1 = fruits1.count('🧺')

    apples2 = fruits2.count('🍎')
    pears2 = fruits2.count('🍐')
    melons2 = fruits2.count('🍉')
    baskets2 = fruits2.count('🧺')


    # Representación temporal como número total de manzanas
    total_apples1 = apples1 + pears1 * 3 + melons1 * 15 // 3 + baskets1 * 30
    total_apples2 = apples2 + pears2 * 3 + melons2 * 15 // 3 + baskets2 * 30

    if total_apples1 < total_apples2:
        return "No se puede restar"
    else:
        total_apples = total_apples1 - total_apples2

    # Devolver la representación normalizada de la suma de manzanas
    result_fruits = ""
    baskets = total_apples // 30
    result_fruits += "🧺" * baskets
    total_apples %= 30
    melons = (total_apples*3) // 15
    result_fruits += "🍉" * melons
    total_apples %= 15
    pears = total_apples // 3
    result_fruits += "🍐" * pears
    total_apples %= 3
    result_fruits += "🍎" * total_apples

    return normalize_fruits(result_fruits)

# --- Ejemplos de uso ---

print("--- Sistemas de numeración ---")
binary_number = "1011"
decimal_number = bin_to_dec(binary_number)
print(f"Binario {binary_number} = Decimal {decimal_number}")

decimal_number = 11
binary_number = dec_to_bin(decimal_number)
print(f"Decimal {decimal_number} = Binario {binary_number}")

ternary_number = "210"
decimal_number = ternary_to_dec(ternary_number)
print(f"Ternario {ternary_number} = Decimal {decimal_number}")

decimal_number = 21
ternary_number = dec_to_ternary(decimal_number)
print(f"Decimal {decimal_number} = Ternario {ternary_number}")

septenary_number = "345"
decimal_number = septenary_to_dec(septenary_number)
print(f"Septenario {septenary_number} = Decimal {decimal_number}")

decimal_number = 180
septenary_number = dec_to_septenary(decimal_number)
print(f"Decimal {decimal_number} = Septenario {septenary_number}")

hex_number = "2AF"
decimal_number = hex_to_dec(hex_number)
print(f"Hexadecimal {hex_number} = Decimal {decimal_number}")

decimal_number = 687
hex_number = dec_to_hex(decimal_number)
print(f"Decimal {decimal_number} = Hexadecimal {hex_number}")

print("\n--- Días de la semana ---")
start_day = 0  # Lunes
days = 10.5 #Una semana y media
new_day = calculate_day_of_week(start_day, days)
print(f"{days} días después de {day_number_to_name(start_day)}: {day_number_to_name(new_day)}")
days = 120 # Cuatro meses (aproximadamente)
new_day = calculate_day_of_week(start_day, days)
print(f"{days} días después de {day_number_to_name(start_day)}: {day_number_to_name(new_day)}")

start_day = 4  # Viernes
days = 365 # Año
new_day = calculate_day_of_week(start_day, days)
print(f"{days} días después de {day_number_to_name(start_day)}: {day_number_to_name(new_day)}")

print("\n--- Frutas ---")
fruits1 = "🍎🍎🍎🍎🍎" # 5 manzanas
fruits2 = "🍎🍎🍎" # 3 manzanas
print(f"{fruits1} + {fruits2} = {add_fruits(fruits1, fruits2)}")

fruits3 = "🍐🍐"  # 2 peras
fruits4 = "🍎🍎🍎🍎" # 4 manzanas
print(f"{fruits3} + {fruits4} = {add_fruits(fruits3, fruits4)}")

fruits5 = "🍉🍉" # 2 melones
fruits6 = "🍎🍎🍎🍎🍎🍎🍎🍎🍎🍎🍎🍎🍎🍎🍎" # 15 manzanas
print(f"{fruits5} + {fruits6} = {add_fruits(fruits5, fruits6)}")

fruits7 = "🧺🧺" # 2 cestas
fruits8 = "🍉🍉🍉" # 3 melones
print(f"{fruits7} + {fruits8} = {add_fruits(fruits7, fruits8)}")

fruits9 = "🧺🍉🍐🍎" # 1 cesta, 1 melón, 1 pera, 1 manzana
fruits10 = "🍉🍐🍎" # 1 melón, 1 pera, 1 manzana
print(f"{fruits9} - {fruits10} = {sub_fruits(fruits9, fruits10)}")

fruits11 = "🧺🍉" # 1 cesta, 1 melón
fruits12 = "🧺🍉🍎🍎🍎" # 1 cesta, 1 melón, 3 manzanas
print(f"{fruits11} - {fruits12} = {sub_fruits(fruits11, fruits12)}")

fruits13 = "🍉🍉🍉" # 3 melones
fruits14 = "🍎🍎🍎🍎" # 4 manzanas
print(f"{fruits13} - {fruits14} = {sub_fruits(fruits13, fruits14)}")

fruits15 = "🍐🍐🍐🍐🍐" # 5 peras
fruits16 = "🍉" # 1 melón
print(f"{fruits15} - {fruits16} = {sub_fruits(fruits15, fruits16)}")
```