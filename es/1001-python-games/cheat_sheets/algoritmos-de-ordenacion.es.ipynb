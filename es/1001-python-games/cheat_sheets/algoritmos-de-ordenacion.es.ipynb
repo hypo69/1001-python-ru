```json
{
 "cells": [
  {
   "cell_type": "markdown",
   "metadata": {
    "colab_type": "text",
    "id": "view-in-github"
   },
   "source": [
    "<a href=\"https://colab.research.google.com/github/hypo69/101_python_computer_games_ru/blob/master/cheat_sheets/sort_ru.ipynb\" target=\"_parent\"><img src=\"https://colab.research.google.com/assets/colab-badge.svg\" alt=\"Open In Colab"/></a>"
   ]
  },
  {
   "cell_type": "markdown",
   "metadata": {
    "id": "9gX4pJvlyCfC"
   },
   "source": [
    "# Algoritmos de ordenación\n",
    "\n",