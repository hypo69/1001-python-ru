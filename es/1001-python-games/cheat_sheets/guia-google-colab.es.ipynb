{
  "nbformat": 4,
  "nbformat_minor": 0,
  "metadata": {
    "colab": {
      "provenance": [],
      "authorship_tag": "ABX9TyPg6nJMrkC8h3gsVOSUMW44",
      "include_colab_link": true
    },
    "kernelspec": {
      "name": "python3",
      "display_name": "Python 3"
    },
    "language_info": {
      "name": "python"
    }
  },
  "cells": [
    {
      "cell_type": "markdown",
      "metadata": {
        "id": "view-in-github",
        "colab_type": "text"
      },
      "source": [
        "<a href=\"https://colab.research.google.com/github/hypo69/101_python_computer_games_ru/blob/master/cheat_sheets/Welcome_To_Colab_IPYNB.ipynb\" target=\"_parent\"><img src=\"https://colab.research.google.com/assets/colab-badge.svg\" alt=\"Open In Colab\"/></a>"
      ]
    },
    {
      "cell_type": "markdown",
      "source": [
        "# ¿Qué es Google Colab?\n",
        "\n",
        "Google Colab es una plataforma basada en la nube, creada por Google, para trabajar con cuadernos interactivos de Jupyter Notebook.\n",
        "Proporciona potentes herramientas para escribir y ejecutar código Python, analizar datos, entrenar modelos de aprendizaje automático y colaborar en proyectos.\n",
        