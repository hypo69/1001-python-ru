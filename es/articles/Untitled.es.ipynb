{
 "cells": [
  {
   "cell_type": "code",
   "execution_count": 1,
   "id": "69747c0e-f28c-4688-bb85-cef7841a223b",
   "metadata": {},
   "outputs": [
    {
     "name": "stderr",
     "output_type": "stream",
     "text": [
      "<>:27: SyntaxWarning: invalid escape sequence '\\l'\n",
      "<>:28: SyntaxWarning: invalid escape sequence '\\l'\n",
      "<>:27: SyntaxWarning: invalid escape sequence '\\l'\n",
      "<>:28: SyntaxWarning: invalid escape sequence '\\l'\n",
      "C:\\Users\\user\\AppData\\Local\\Temp\\ipykernel_25904\\363288563.py:27: SyntaxWarning: invalid escape sequence '\\l'\n",
      "  plt.plot(n, logarithmic, label='Logarithmic: $f(n) = \\log n$')\n",
      "C:\\Users\\user\\AppData\\Local\\Temp\\ipykernel_25904\\363288563.py:28: SyntaxWarning: invalid escape sequence '\\l'\n",
      "  plt.plot(n, nlogn, label='Linearithmic: $f(n) = n \\log n$')\n"
     ]
    },
    {
     "data": {
      "image/png": "iVBORw0KGgoAAAANSUhEUgAAA1cAAAIjCAYAAADvBuGTAAAAOnRFWHRTb2Z0d2FyZQBNYXRwbG90bGliIHZlcnNpb24zLjEwLjEsIGh0dHBzOi8vbWF0cGxvdGxpYi5vcmcvc2/+5QAAAAlwSFlzAAAPYQAAD2EBqD+naQAA3fVJREFUeJzsnQd0HNXZhr+t6l1yl7sxGIMNBtPBVAfTIQFS6BBK6J3QIRB6M4QWagihhZIfHGO6ATs04wa423K3etf2/c97d2c1u1rJu9Jq6/ucM5qZO+3O3dnVfecr1+D1er1CCCGEEEIIIYTEAIorQgghhBBCCCEkBlBcEUIIIYQQQkgMoLgihBBCCCGEkBhAcUUIiQkGg0Fuu+02SXX+8Y9/yI477igWi0WKi4vjdt2RI0fKmWeeKekAngM8D71h2rRpakoWXnzxRXUv69atS3RV0pbePvv4TPDZ4DNK9HNLEvN9/vzzz9VnhjkhyQLFFSExYvXq1XL++efL6NGjJTs7WwoLC2W//faTRx99VDo6OhJdPRIBy5YtU528MWPGyLPPPivPPPPMdjti2pSbmysTJkyQm266SZqbm+Nab5J4Qp+H0Gnr1q2SycybN0+1UWNjY9yFW0+fizbFSqD1B/g9uf3222XSpEmSn58vOTk5MnHiRLnuuutk8+bNia5e0vHqq6/KI488kuhqkAzGnOgKEJIOfPDBB/Kb3/xGsrKy5PTTT1f/+BwOh3z11VdyzTXXyE8//dRjRz0dgIA0m1P7JwVvPz0ejxLEY8eOjeiYJ598UnV4WltbZc6cOXLXXXfJp59+Kl9//XXGvgWHwLz++uslE9GehDiaQVNVnEFgYCXF6FtsXz5cjEa++ddLzrZ+G5qzJo1S/71r3/Jww8/LOXl5YHyfffdV/7whz8k3XO7Zs0aOeyww2T9+vXqf8wf//hHsVqtsnjxYnnuuefknXfekRUrVkimcuCBB6r/PWgTvbhaunSpXH755QmnG8lcUrsnREgSsHbtWjn11FNlxIgRqlM9ePDgwLY//elPsmrVKiW+0hEIEYhIWOowpTrV1dVRd4R//etfBzppF1xwgZx00kny9ttvy//+9z/ZZ599JBOByE51od1b9M8DiQy8lOovjj/++KB1WBAhrlAOq1YoyfTculwuOfHEE2Xbtm3qxc/+++8ftB0vcu69917JZCDK0+F/D0kv6BZISB+577771JtRvEXUCysNWEAuu+yyoH+Yd955p3I9Q6cC/+D//Oc/i91uDzoO5UcffbT6p7rHHnsoV5Bddtkl4FuODjzW8Y9lypQp8uOPPwYdjzfEeIOON5/Tp0+XvLw8GTJkiNxxxx3i9XqD9n3ggQfUm9uysjJ1HZzvrbfe6nIvsMRcfPHF8s9//lN23nlnVf/Zs2eHjblqaWlRbw5xH9hvwIABcvjhh8uCBQuCzvnmm2+q6+G66JTi7fGmTZvC3gvK0SnCckVFhVx99dXidrsj+pz+9re/BeqMdoDw1bsooZ633nqrWsa5extDdsghhwREN2hra5OrrrpKKisr1bXHjx+v2jv0M9CDzwzXx9v1cBYAbEMHUe+OBhGvWQWKiorkrLPOkvb29qBj4/XshYtdeeGFF1Tb4DnAteFCCStPb4n0fNq9wIo8depUVWe47r788std9oWFGefE/Q4bNkz+8pe/qBcIseSMM85Qdfjll1+CyvEdLSkpCbh5abFec+fOVe7G+G7C1RiW8YaGhqifb4DYF1jVf/75Zzn44IOVK+vQoUPVb1goeCbwfcDvF86J5/faa6/t8qxovwnvvvuuOjf2RT203wXteYAFH4waNSrgiqfFsYXGXNXX16vvNp4xfNdx30ceeaQsWrRI+pNwz612f/idwjOG... [truncated]