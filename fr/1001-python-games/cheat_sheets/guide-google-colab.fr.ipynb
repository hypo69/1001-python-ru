{
  "nbformat": 4,
  "nbformat_minor": 0,
  "metadata": {
    "colab": {
      "provenance": [],
      "authorship_tag": "ABX9TyPg6nJMrkC8h3gsVOSUMW44",
      "include_colab_link": true
    },
    "kernelspec": {
      "name": "python3",
      "display_name": "Python 3"
    },
    "language_info": {
      "name": "python"
    }
  },
  "cells": [
    {
      "cell_type": "markdown",
      "metadata": {
        "id": "view-in-github",
        "colab_type": "text"
      },
      "source": [
        "<a href=\"https://colab.research.google.com/github/hypo69/101_python_computer_games_ru/blob/master/cheat_sheets/Welcome_To_Colab_IPYNB.ipynb\" target=\"_parent\"><img src=\"https://colab.research.google.com/assets/colab-badge.svg\" alt=\"Open In Colab\"/></a>"
      ]
    },
    {
      "cell_type": "markdown",
      "source": [
        "# Qu'est-ce que Google Colab ?\n",
        "\n",
        "Google Colab est une plateforme basée sur le cloud, créée par Google, pour travailler avec des carnets Jupyter interactifs.\n",
        "Elle fournit des outils puissants pour écrire et exécuter du code Python, analyser des données, entraîner des modèles d'apprentissage automatique et collaborer sur des projets.\n",
        "\n",
        "Colab donne accès à de puissantes ressources de calcul, y compris des unités de traitement graphique (GPU) et des unités de traitement tensoriel (TPU).\n",
        "Cela vous permet de résoudre des problèmes complexes, tels que le traitement de grandes quantités de données ou l'entraînement de réseaux neuronaux, sans avoir à acheter du matériel coûteux. Colab est construit sur Jupyter Notebook, offrant une interface pratique pour travailler avec du code, du texte et des visualisations. Vous pouvez exécuter des cellules de code, insérer du texte explicatif, créer des graphiques et des visualisations directement dans votre navigateur. Vous pouvez utiliser Colab immédiatement après l'ouverture. Il n'est pas nécessaire d'installer des programmes, des bibliothèques ou des pilotes supplémentaires. Tout est déjà configuré pour fonctionner. Vous pouvez connecter votre Google Drive, ce qui vous permet de télécharger facilement des données, d'enregistrer des projets et d'accéder aux fichiers depuis n'importe où. Colab prend en charge la collaboration. Vous pouvez partager vos projets avec des collègues, modifier des carnets simultanément et discuter des modifications en temps réel.\n",
        