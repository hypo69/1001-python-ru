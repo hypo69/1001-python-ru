{
 "cells": [
  {
   "cell_type": "markdown",
   "metadata": {
    "colab_type": "text",
    "id": "view-in-github"
   },
   "source": [
    "<a href=\"https://colab.research.google.com/github/hypo69/101_python_computer_games_ru/blob/master/cheat_sheets/sort_ru.ipynb\" target=\"_parent\"><img src=\"https://colab.research.google.com/assets/colab-badge.svg\" alt=\"Open In Colab\"/></a>"
   ]
  },
  {
   "cell_type": "markdown",
   "metadata": {
    "id": "9gX4pJvlyCfC"
   },
   "source": [
    "# Algorithmes de tri\n",
    "\n",
    "\n",
    "*   Le premier élément – c'est la taille du fruit :\n",
    "    *   🍎 (petit) – pomme\n",
    "    *   🍐 (moyen) – poire\n",
    "    *   🍉 (grand) – melon\n",
    "    *   🧺 (très grand) – panier\n",
    "*   Le deuxième élément – c'est un identifiant unique, pour le fonctionnement du programme.\n",
    "\n",
    "Exemple : `(🍎, 1)` – c'est une petite pomme avec l'identifiant 1.\n",
    "\n",
    "**Algorithmes de tri (comparaison par taille de fruit) :**\n",
    "\n",
    "**Algorithmes de tri (comparaison par taille de fruit) :**\n",
    "\n",
    "1.  **Tri à bulles (Bubble Sort) :**\n",
    "    *   L'algorithme compare les fruits adjacents par taille. Si un fruit est plus grand que son voisin, il échange sa place avec lui.\n",
    "    *   Ce processus se répète jusqu'à ce que toute la liste de fruits soit triée du plus petit au plus grand.\n",
    "    *   Le tri à bulles est simple, mais ne convient pas aux grandes listes de fruits, car il est inefficace.\n",
    "\n",
    "2.  **Tri par insertion (Insertion Sort) :**\n",
    "    *   L'algorithme construit une liste triée en y ajoutant les fruits un par un. Un nouveau fruit est inséré à la bonne place pour maintenir l'ordre par taille.\n",
    "    *   Le tri par insertion est bon pour les petites listes ou pour celles où les données sont déjà presque triées.\n",
    "\n",
    "3.  **Tri par sélection (Selection Sort) :**\n",
    "    *   L'algorithme trouve le plus petit fruit dans la partie non triée de la liste. Ensuite, il place ce fruit à la première place dans la partie non triée de la liste.\n",
    "    *   Ce processus se répète jusqu'à ce que tous les fruits soient triés.\n",
    "    *   Le tri par sélection est simple, mais inefficace pour les grandes listes.\n",
    "\n",
    "\n",
    