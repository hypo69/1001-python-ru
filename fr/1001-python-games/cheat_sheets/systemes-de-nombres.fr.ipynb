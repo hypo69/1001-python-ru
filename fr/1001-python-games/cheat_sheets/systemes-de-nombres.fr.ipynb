# Systèmes de numération

Bonjour ! Plongeons dans le monde fascinant des systèmes de numération. Préparez-vous, aujourd'hui vous apprendrez beaucoup de choses nouvelles et intéressantes !

# Systèmes de numération

**1. Système de numération abstrait**

Imaginez que les nombres sont comme des mots que l'on peut écrire avec différentes "lettres". Peu importe comment nous désignons les nombres, l'essentiel est de respecter certaines règles :

*   **Base :** C'est le nombre de symboles (chiffres) uniques que nous utilisons. Désignons la base par `b`. Par exemple, dans le système décimal, la base est 10.
*   **Chiffres :** Ce sont les symboles que nous utilisons pour écrire les nombres. Habituellement, ce sont des chiffres arabes (0, 1, 2, 3, ...), mais d'autres symboles peuvent également être utilisés, par exemple, des lettres latines (I, V, X) ou même des fruits (🍎, 🍐, 🍉).
*   **Position :** Chaque chiffre dans la représentation d'un nombre a sa propre position, ce qui affecte sa valeur. Cela signifie que le même chiffre peut avoir une valeur différente selon sa position dans le nombre.
*   **Rangées :** Chaque position est appelée une rangée (par exemple, unités, dizaines, centaines, etc.). Dans chaque position, la valeur du chiffre est multipliée par la base élevée à la puissance correspondant à son numéro de rangée.

**Comment est construit un système de numération ?**

1.  **Choix de la base :** Nous choisissons un entier `b` qui sera la base de notre système.
2.  **Choix des chiffres :** Nous avons besoin de `b` chiffres uniques. Habituellement, ce sont 0, 1, 2, ..., `b-1`. Par exemple, pour le système binaire (base 2), nous avons les chiffres 0 et 1.
3.  **Représentation d'un nombre :** Un nombre est écrit comme une séquence de chiffres. La valeur de chaque chiffre est multipliée par la base, élevée à la puissance égale à sa position (en commençant par 0 à droite).

**Formule pour calculer la valeur d'un nombre :**

Si nous avons un nombre écrit sous forme de séquence de chiffres `dₙ dₙ₋₁ ... d₁ d₀`, alors sa valeur dans le système décimal peut être calculée par la formule :

`valeur = dₙ * bⁿ + dₙ₋₁ * bⁿ⁻¹ + ... + d₁ * b¹ + d₀ * b⁰`

Où :

*   `dᵢ` - chiffre à la i-ème position
*   `b` - base du système de numération
*   `i` - numéro de position (de droite à gauche, en commençant par 0)

**Exemple :**

Supposons que nous ayons le nombre 123 dans le système décimal (base 10). Selon la formule :

`1 * 10² + 2 * 10¹ + 3 * 10⁰ = 100 + 20 + 3 = 123`

**Ordres de numération (rangées) :**

Les ordres, comme nous l'avons déjà dit, sont les positions des chiffres dans un nombre, chaque position a son propre poids, qui est déterminé par la base élevée à la puissance de son numéro ordinal.
*   `d₀` : unités (`b⁰`)
*   `d₁` : `b` (`b¹`)
*   `d₂` : `b²`
*   `d₃` : `b³`
*   et ainsi de suite

**Règles :**

1.  **Plage de chiffres :** Les chiffres de 0 à `b-1` sont utilisés.
2.  **Principe positionnel :** La valeur d'un chiffre dépend de sa position.
3.  **Transition vers la rangée suivante :** Lorsque la valeur `b` est atteinte dans une rangée, un report se produit vers la rangée suivante (analogue à la façon dont après 9 dans le système décimal, 1 est ajouté à la rangée suivante et 10 est obtenu)

## Exemple : Système de numération des fruits

Examinons un exemple de système de numération abstrait avec des fruits :

*   🍎 (pomme)
*   🍐 (poire)
*   🍉 (melon)
*   🧺 (panier)

**Règles :**

1.  3 🍎 = 1 🍐
2.  5 🍐 = 3 🍉
3.  2 🍉 = 1 🧺

**Représentation des nombres :**

Nous représenterons le nombre de fruits sous forme de chaîne, où chaque symbole Unicode correspond à un fruit. Par exemple, "🍎🍎🍎" représente 3 pommes, et "🍉🍉" représente 2 melons.

**Opérations arithmétiques :**

Nous pouvons effectuer des opérations d'addition et de soustraction. Pour commencer, faisons l'addition.

**Code Python :**

```python
def normalize_fruits(fruits: str) -> str:
    """
    Normalise une chaîne de fruits, en la ramenant à sa représentation minimale,
    en utilisant les règles d'échange de fruits.

    Args:
        fruits: Chaîne de fruits (🍎, 🍐, 🍉, 🧺).

    Returns:
        Chaîne avec le nombre de fruits normalisé.
    """
    apples = fruits.count('🍎')
    pears = fruits.count('🍐')
    melons = fruits.count('🍉')
    baskets = fruits.count('🧺')

    # Conversion des pommes en poires
    pears += apples // 3
    apples %= 3

    # Conversion des poires en melons
    melons += (pears * 3) // 5
    pears %= 5

    # Conversion des melons en paniers
    baskets += melons // 2
    melons %= 2

    # Reconstitution de la chaîne, d'abord les paniers, puis les melons, les poires, les pommes
    return \
        "🧺" * baskets \
        + "🍉" * melons \
        + "🍐" * pears \
        + "🍎" * apples


def add_fruits(fruits1: str, fruits2: str) -> str:
    """
    Ajoute deux chaînes de fruits.

    Args:
        fruits1: Chaîne de fruits.
        fruits2: Chaîne de fruits.

    Returns:
        Chaîne avec la somme des fruits.
    """
    return normalize_fruits(fruits1 + fruits2)


def sub_fruits(fruits1: str, fruits2: str) -> str:
    """
    Soustrait la deuxième chaîne de fruits de la première, si possible.

    Args:
        fruits1: Chaîne de fruits, de laquelle on soustrait.
        fruits2: Chaîne de fruits, que l'on soustrait.

    Returns:
        Chaîne avec la différence de fruits ou "Impossible de soustraire", si le résultat est négatif.
    """

    apples1 = fruits1.count('🍎')
    pears1 = fruits1.count('🍐')
    melons1 = fruits1.count('🍉')
    baskets1 = fruits1.count('🧺')

    apples2 = fruits2.count('🍎')
    pears2 = fruits2.count('🍐')
    melons2 = fruits2.count('🍉')
    baskets2 = fruits2.count('🧺')


    # Représentation temporaire sous forme de nombre total de pommes
    total_apples1 = apples1 + pears1 * 3 + melons1 * 15 // 3 + baskets1 * 30
    total_apples2 = apples2 + pears2 * 3 + melons2 * 15 // 3 + baskets2 * 30

    if total_apples1 < total_apples2:
        return "Impossible de soustraire"
    else:
        total_apples = total_apples1 - total_apples2

    # Renvoie la représentation normalisée de la somme des pommes
    result_fruits = ""
    baskets = total_apples // 30
    result_fruits += "🧺" * baskets
    total_apples %= 30
    melons = (total_apples*3) // 15
    result_fruits += "🍉" * melons
    total_apples %= 15
    pears = total_apples // 3
    result_fruits += "🍐" * pears
    total_apples %= 3
    result_fruits += "🍎" * total_apples

    return normalize_fruits(result_fruits)

# --- Exemples d'utilisation ---

print("--- Systèmes de numération ---")
binary_number = "1011"
decimal_number = bin_to_dec(binary_number)
print(f"Binaire {binary_number} = Décimal {decimal_number}")

decimal_number = 11
binary_number = dec_to_bin(decimal_number)
print(f"Décimal {decimal_number} = Binaire {binary_number}")

ternary_number = "210"
decimal_number = ternary_to_dec(ternary_number)
print(f"Ternaire {ternary_number} = Décimal {decimal_number}")

decimal_number = 21
ternary_number = dec_to_ternary(decimal_number)
print(f"Décimal {decimal_number} = Ternaire {ternary_number}")

septenary_number = "345"
decimal_number = septenary_to_dec(septenary_number)
print(f"Septénaire {septenary_number} = Décimal {decimal_number}")

decimal_number = 180
septenary_number = dec_to_septenary(decimal_number)
print(f"Décimal {decimal_number} = Septénaire {septenary_number}")

hex_number = "2AF"
decimal_number = hex_to_dec(hex_number)
print(f"Hexadécimal {hex_number} = Décimal {decimal_number}")

decimal_number = 687
hex_number = dec_to_hex(decimal_number)
print(f"Décimal {decimal_number} = Hexadécimal {hex_number}")

print("\n--- Jours de la semaine ---")
start_day = 0  # Lundi
days = 10.5 #Une semaine et demie
new_day = calculate_day_of_week(start_day, days)
print(f"{days} jours après {day_number_to_name(start_day)}: {day_number_to_name(new_day)}")
days = 120 # Quatre mois (environ)
new_day = calculate_day_of_week(start_day, days)
print(f"{days} jours après {day_number_to_name(start_day)}: {day_number_to_name(new_day)}")

start_day = 4  # Vendredi
days = 365 # An
new_day = calculate_day_of_week(start_day, days)
print(f"{days} jours après {day_number_to_name(start_day)}: {day_number_to_name(new_day)}")

print("\n--- Fruits ---")
fruits1 = "🍎🍎🍎🍎🍎" # 5 pommes
fruits2 = "🍎🍎🍎" # 3 pommes
print(f"{fruits1} + {fruits2} = {add_fruits(fruits1, fruits2)}")

fruits3 = "🍐🍐"  # 2 poires
fruits4 = "🍎🍎🍎🍎" # 4 pommes
print(f"{fruits3} + {fruits4} = {add_fruits(fruits3, fruits4)}")

fruits5 = "🍉🍉" # 2 melons
fruits6 = "🍎🍎🍎🍎🍎🍎🍎🍎🍎🍎🍎🍎🍎🍎🍎" # 15 pommes
print(f"{fruits5} + {fruits6} = {add_fruits(fruits5, fruits6)}")

fruits7 = "🧺🧺" # 2 paniers
fruits8 = "🍉🍉🍉" # 3 melons
print(f"{fruits7} + {fruits8} = {add_fruits(fruits7, fruits8)}")

fruits9 = "🧺🍉🍐🍎" # 1 panier, 1 melon, 1 poire, 1 pomme
fruits10 = "🍉🍐🍎" # 1 melon, 1 poire, 1 pomme
print(f"{fruits9} - {fruits10} = {sub_fruits(fruits9, fruits10)}")

fruits11 = "🧺🍉" # 1 panier, 1 melon
fruits12 = "🧺🍉🍎🍎🍎" # 1 panier, 1 melon, 3 pommes
print(f"{fruits11} - {fruits12} = {sub_fruits(fruits11, fruits12)}")

fruits13 = "🍉🍉🍉" # 3 melons
fruits14 = "🍎🍎🍎🍎" # 4 pommes
print(f"{fruits13} - {fruits14} = {sub_fruits(fruits13, fruits14)}")

fruits15 = "🍐🍐🍐🍐🍐" # 5 poires
fruits16 = "🍉" # 1 melon
print(f"{fruits15} - {fruits16} = {sub_fruits(fruits15, fruits16)}")