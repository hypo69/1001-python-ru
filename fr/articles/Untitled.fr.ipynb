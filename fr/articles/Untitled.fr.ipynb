{
 "cells": [
  {
   "cell_type": "code",
   "execution_count": 1,
   "id": "69747c0e-f28c-4688-bb85-cef7841a223b",
   "metadata": {},
   "outputs": [
    {
     "name": "stderr",
     "output_type": "stream",
     "text": [
      "<>:27: SyntaxWarning: invalid escape sequence '\\l'\n",
      "<>:28: SyntaxWarning: invalid escape sequence '\\l'\n",
      "<>:27: SyntaxWarning: invalid escape sequence '\\l'\n",
      "<>:28: SyntaxWarning: invalid escape sequence '\\l'\n",
      "C:\\Users\\user\\AppData\\Local\\Temp\\ipykernel_25904\\363288563.py:27: SyntaxWarning: invalid escape sequence '\\l'\n",
      "  plt.plot(n, logarithmic, label='Logarithmic: $f(n) = \\log n$')\n",
      "C:\\Users\\user\\AppData\\Local\\Temp\\ipykernel_25904\\363288563.py:28: SyntaxWarning: invalid escape sequence '\\l'\n",
      "  plt.plot(n, nlogn, label='Linearithmic: $f(n) = n \\log n$')\n"
     ]
    },
    {
     "data": {
      "image/png": "iVBORw0KGgoAAAANSUhEUgAAA1cAAAIjCAYAAADvBuGTAAAAOnRFWHRTb2Z0d2FyZQBNYXRwbG90bGliIHZlcnNpb24zLjEwLjEsIGh0dHBzOi8vbWF0cGxvdGxpYi5vcmcvc2/+5QAAAAlwSFlzAAAPYQAAD2EBqD+naQAA3fVJREFUeJzsnQd0HNXZhr+t6l1yl7sxGIMNBtPBVAfTIQFS6BBK6J3QIRB6M4QWagihhZIfHGO6ATs04wa423K3etf2/c97d2c1u1rJu9Jq6/ucM5qZO+3O3dnVfecr1+D1er1CCCGEEEIIIYTEAIorQgghhBBCCCEkBlBcEUIIIYQQQkgMoLgihBBCCCGEkBhAcUUIiQkGg0Fuu+02SXX+8Y9/yI477igWi0WKi4vjdt2RI0fKmWeeKekAngM8D71h2rRpakoWXnzxRXUv69atS3RV0pbePvv4TPDZ4DNK9HNLEvN9/vzzz9VnhjkhyQLFFSExYvXq1XL++efL6NGjJTs7WwoLC2W//faTRx99VDo6OhJdPRIBy5YtU528MWPGyLPPPivPPPPMdjti2pSbmysTJkyQm266SZqbm+Nab5J4Qp+H0Gnr1q2SycybN0+1UWNjY9yFW0+fizbFSqD1B/g9uf3222XSpEmSn58vOTk5MnHiRLnuuutk8+bNia5e0vHqq6/KI488kuhqkAzGnOgKEJIOfPDBB/Kb3/xGsrKy5PTTT1f/+BwOh3z11VdyzTXXyE8//dRjRz0dgIA0m1P7JwVvPz0ejxLEY8eOjeiYJ598UnV4WltbZc6cOXLXXXfJp59+Kl9//XXGvgWHwLz++uslE9GehDiaQVNVnEFgYCXF6FtsXz5cjEa++ddLzrZ+G5qzJo1S/71r3/Jww8/LOXl5YHyfffdV/7whz8k3XO7Zs0aOeyww2T9+vXqf8wf//hHsVqtsnjxYnnuuefknXfekRUrVkimcuCBB6r/PWgTvbhaunSpXH755QmtG8lcUrsnREgSsHbtWjn11FNlxIgRqlM9ePDgwLY//elPsmrVKiW+0hEIEYhIWOowpTrV1dVRd4R//etfBzppF1xwgZx00kny9ttvy//+9z/ZZ599JBOByE51od1b9M8DiQy8lOovjj/++KB1WBAhrlAOq1YoyfTculwuOfHEE2Xbtm3qxc/+++8ftB0vcu69917JZCDK0+F/D0kv6BZISB+577771JtRvEXUCysNWEAuu+yyoH+Yd955p3I9Q6cC/+D//Oc/i91uDzoO5UcffbT6p7rHHnsoV5Bddtkl4FuODjzW8Y9lypQp8uOPPwYdjzfEeIOON5/Tp0+XvLw8GTJkiNxxxx3i9XqD9n3ggQfUm9uysjJ1HZzvrbfe6nIvsMRcfPHF8s9//lN23nlnVf/Zs2eHjblqaWlRbw5xH9hvwIABcvjhh8uCBQuCzvnmm2+q6+G66JTi7fGmTZvC3gvK0SnCckVFhVx99dXidrsj+pz+9re/BeqMdoDw1bsooZ633nqrWsa5extDdsghhwREN2hra5OrrrpKKisr1bXHjx+v2jv0M9CDzwzXx9v1cBYAbEMHUe+OBhGvWQWKiorkrLPOkvb29qBj4/XshYtdeeGFF1Tb4DnAteFCCStPb4n0fNq9wIo8depUVWe47r788std9oWFGefE/Q4bNkz+8pe/qBcIseSMM85Qdfjll1+CyvEdLSkpCbh5abFec+fOVe7G+G7C1RiW8YaGhqifb4DYF1jVf/75Zzn44IOVK+vQoUPVb1goeCbwfcDvF86J5/faa6/t8qxovwnvvvuuOjf2RT203wXteYAFH4waNSrgiqfFsYXGXNXX16vvNp4xfNdx30ceeaQsWrRI+pNwz612f/idwjOG... [truncated]",
      "text/plain": [
       "<Figure size 1000x600 with 1 Axes>"
      ]
     },
     "metadata": {},
     "output_type": "display_data"
    }
   ],
   "source": [
    "import matplotlib.pyplot as plt\n",
    "import numpy as np\n",
    "import math # Importer le module math standard\n",
    "\n",
    "# Plage de valeurs de n\n",
    "n = np.linspace(1, 20, 100)\n",
    "\n",
    "# Fonctions polynomiales\n",
    "linear = n\n",
    "quadratic = n**2\n",
    "cubic = n**3\n",
    "logarithmic = np.log(n)\n",
    "nlogn = n * np.log(n)\n",
    "\n",
    "# Fonctions exponentielles\n",
    "exponential = 2**n\n",
    "# Utiliser math.factorial du module importé\n",
    "factorial = [math.factorial(int(i)) for i in n]  # La factorielle n'est définie que pour les entiers\n",
    "\n",
    "# Tracer les graphiques\n",
    "plt.figure(figsize=(10, 6))\n",
    "\n",
    "# Fonctions polynomiales\n",
    "plt.plot(n, linear, label='Linéaire : $f(n) = n$')\n",
    "plt.plot(n, quadratic, label='Quadratique : $f(n) = n^2$')\n",
    "plt.plot(n, cubic, label='Cubique : $f(n) = n^3$')\n",
    "plt.plot(n, logarithmic, label='Logarithmique : $f(n) = \\log n$')\n",
    "plt.plot(n, nlogn, label='Quasi-linéaire : $f(n) = n \\log n$')\n",
    "\n",
    "# Fonctions exponentielles\n",
    "plt.plot(n, exponential, label='Exponentielle : $f(n) = 2^n$')\n",
    "plt.plot(n, factorial, label='Factorielle : $f(n) = n!$')\n",
    "\n",
    "# Paramètres du graphique\n",
    "plt.yscale('log')  # Échelle logarithmique pour plus de commodité\n",
    "plt.xlabel('Taille de l'entrée (n)')\n",
    "plt.ylabel('Complexité temporelle')\n",
    "plt.title('Comparaison de la complexité temporelle polynomiale et exponentielle')\n",
    "plt.legend()\n",
    "plt.grid(True)\n",
    "plt.show()"
   ]
  },
  {
   "cell_type": "code",
   "execution_count": null,
   "id": "87745c68-4e96-4048-802d-3537ac83d2e8",
   "metadata": {},
   "outputs": [],
   "source": []
  }
 ],
 "metadata": {
  "kernelspec": {
   "display_name": "Python 3 (ipykernel)",
   "language": "python",
   "name": "python3"
  },
  "language_info": {
   "codemirror_mode": {
    "name": "ipython",
    "version": 3
   },
   "file_extension": ".py",
   "mimetype": "text/x-python",
   "name": "python",
   "nbconvert_exporter": "python",
   "pygments_lexer": "ipython3",
   "version": "3.13.2"
  }
 },
 "nbformat": 4,
 "nbformat_minor": 5
}