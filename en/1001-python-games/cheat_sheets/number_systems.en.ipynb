{
  "nbformat": 4,
  "nbformat_minor": 0,
  "metadata": {
    "colab": {
      "provenance": [],
      "authorship_tag": "ABX9TyOeJtupAx5SrtwoUiYYEoXq",
      "include_colab_link": true
    },
    "kernelspec": {
      "name": "python3",
      "display_name": "Python 3"
    },
    "language_info": {
      "name": "python"
    }
  },
  "cells": [
    {
      "cell_type": "markdown",
      "metadata": {
        "id": "view-in-github",
        "colab_type": "text"
      },
      "source": [
        "<a href=\"https://colab.research.google.com/github/hypo69/101_python_computer_games_ru/blob/master/cheat_sheets/number_systems_ru.ipynb\" target=\"_parent\"><img src=\"https://colab.research.google.com/assets/colab-badge.svg\" alt=\"Open In Colab\"/></a>"
      ]
    },
    {
      "cell_type": "markdown",
      "source": [
        "\n",
        "# Number Systems\n",
        "\n",
        "**1. Abstract Number System**\n",
        "\n",
        "It doesn't matter how numbers are denoted, you can use any set of symbols,\n",
        "the main thing is that they comply with the rules:\n",
        "\n",
        "*   **Base:** This is the number of unique symbols (digits) that we use. Let's denote the base as `b`.\n",
        "*   **Digits:** These are the symbols that we use to represent numbers.\n",
        "    Usually these are Arabic numerals (0, 1, 2, 3, ...), Latin (I,II,II,..),\n",
        "    but other symbols can also be used. For example:\n",
        "*   **Position:** Each digit in the representation of a number has its own position, which affects its value.\n",
        "*   **Place values:** Each position is called a place value (e.g., ones, tens, hundreds, etc.)\n",
        "\n",
        "**How is a number system constructed?**\n",
        "\n",
        "1.  **Choosing a base:** We choose an integer `b` that will be the base of our system.\n",
        "2.  **Choosing digits:** We need `b` unique digits. Usually these are 0, 1, 2, ..., `b-1`.\n",
        "3.  **Writing a number:** A number is written as a sequence of digits. The value of each digit is multiplied by the base, raised to the power equal to its position (starting from 0 on the right).\n",
        "\n",
        "**Formula for calculating the value of a number:**\n",
        "\n",
        