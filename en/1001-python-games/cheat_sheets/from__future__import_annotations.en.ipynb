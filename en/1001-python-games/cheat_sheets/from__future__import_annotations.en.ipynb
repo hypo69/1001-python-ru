{
 "cells": [
  {
   "cell_type": "markdown",
   "source": [
    "`from __future__ import annotations` - this is a directive in Python that affects how type annotations are handled. It was introduced in Python 3.7 and was intended to become the default behavior in Python 3.10 (although this was postponed, and is now planned for Python 4.0).\n",
    "\n",
    "**The problem this directive solves:**\n",
    "\n",
    "In Python, starting from version 3.0, it became possible to add type annotations to variables, function arguments, and return values. This is useful for static code analysis (e.g., using MyPy) and improving readability. However, before the introduction of `from __future__ import annotations`, the Python interpreter tried to evaluate type annotations at runtime. This could lead to problems, especially in cases of circular dependencies between classes, when one class refers to another in a type annotation.\n",
    "\n",
    "**How `from __future__ import annotations` works:**\n",
    "\n",
    "This directive changes the way type annotations are processed. Instead of immediate evaluation, annotations are stored as strings. This means that the interpreter does not try to find and load classes or other objects mentioned in the annotations until they are actually needed.\n",
    "\n",
    "**Advantages of using `from __future__ import annotations`:**\n",
    "\n",
    "*   **Solving problems with circular imports:** As mentioned, this directive helps avoid errors related to circular dependencies between classes.\n",
    "*   **Performance improvement:** Delayed evaluation of annotations can slightly speed up program startup, especially if there are many annotations.\n",
    "*   **More flexible syntax:** Allows using more complex expressions in annotations that previously could cause errors.\n",
    "\n",
    "**Example:**\n",
    "\n",
    "Without `from __future__ import annotations`:"]
  },
  {
   "cell_type": "code",
   "source": [
    "class A:\n",
    "    def __init__(self, b: B):\n",
    "        self.b = b\n",
    "\n",
    "class B:\n",
    "    def __init__(self, a: A):\n",
    "        self.a = a\n",
    "\n",
    "# Creating instances will cause a NameError, because B is not defined when A is defined."]
  },
  {
   "cell_type": "markdown",
   "source": [
    "With `from __future__ import annotations`:"]
  },
  {
   "cell_type": "code",
   "source": [
    "from __future__ import annotations\n",
    "\n",
    "class A:\n",
    "    def __init__(self, b: B):\n",
    "        self.b = b\n",
    "\n",
    "class B:\n",
    "    def __init__(self, a: A):\n",
    "        self.a = a\n",
    "\n",
    "# Now this will work without errors, because annotations are stored as strings."]
  },
  {
   "cell_type": "markdown",
   "source": [
    "**When to use it?**\n",
    "\n",
    "*   **Always** use `from __future__ import annotations` at the beginning of your Python files, especially in large projects with complex dependencies. This has become a recommended practice.\n",
    "*   It is especially useful when you use type annotations for **forward references**, i.e., when you refer to a type that has not yet been defined in the same file.\n",
    "\n",
    "**Note:** Although this behavior will become the default in future versions of Python, explicit use of the `from __future__ import annotations` directive ensures backward compatibility and clarity in your code."]
  }
 ],
 "metadata": {
  "kernelspec": {
   "display_name": "Python 3 (ipykernel)",
   "language": "python",
   "name": "python3"
  },
  "language_info": {
   "codemirror_mode": {
    "name": "ipython",
    "version": 3
   },
   "file_extension": ".py",
   "mimetype": "text/x-python",
   "name": "python",
   "nbconvert_exporter": "python",
   "pygments_lexer": "ipython3",
   "version": "3.13.2"
  }
 },
 "nbformat": 4,
 "nbformat_minor": 5
}