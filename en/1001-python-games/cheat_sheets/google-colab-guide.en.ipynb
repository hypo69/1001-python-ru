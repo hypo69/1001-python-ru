{
  "nbformat": 4,
  "nbformat_minor": 0,
  "metadata": {
    "colab": {
      "provenance": [],
      "authorship_tag": "ABX9TyPg6nJMrkC8h3gsVOSUMW44",
      "include_colab_link": true
    },
    "kernelspec": {
      "name": "python3",
      "display_name": "Python 3"
    },
    "language_info": {
      "name": "python"
    }
  },
  "cells": [
    {
      "cell_type": "markdown",
      "metadata": {
        "id": "view-in-github",
        "colab_type": "text"
      },
      "source": [
        "<a href=\"https://colab.research.google.com/github/hypo69/101_python_computer_games_ru/blob/master/cheat_sheets/Welcome_To_Colab_IPYNB.ipynb\" target=\"_parent\"><img src=\"https://colab.research.google.com/assets/colab-badge.svg\" alt=\"Open In Colab\"/>"]
      ]
    },
    {
      "cell_type": "markdown",
      "source": [
        "# What is Google Colab?\n",
        "\n",
        "Google Colab is a cloud-based platform, created by Google, for working with interactive Jupyter Notebooks.\n",
        "It provides powerful tools for writing and executing Python code, analyzing data, training machine learning models, and collaborating on projects.\n",
        "\n",
        "Colab provides access to powerful computing resources, including graphics processing units (GPUs) and tensor processing units (TPUs).\n",
        "This allows you to solve complex problems, such as processing large data or training neural networks, without the need to purchase expensive equipment. Colab is built on Jupyter Notebook, providing a convenient interface for working with code, text, and visualizations. You can execute code cells, insert explanatory text, create graphs and visualizations directly in your browser. You can use Colab immediately after opening. There is no need to install additional programs, libraries, or drivers. Everything is already configured for work. You can connect your Google Drive, which allows you to easily upload data, save projects, and access files from anywhere. Colab supports collaboration. You can share your projects with colleagues, edit notebooks simultaneously, and discuss changes in real time.\n",
        "\n",
        "\n",
        "\n",
        "# How does Google Colab work?  \n",
        "- You run a Jupyter notebook in your browser, which eliminates the need to install a local environment.  \n",
        "- The code is executed on remote Google servers, and the results are displayed in your notebook.  \n",
        "- Data can be loaded from a local device or from the cloud, such as Google Drive.  \n",
        "- You can use Colab for writing Python code, working with machine learning libraries (e.g., TensorFlow, PyTorch), analyzing data using Pandas, or creating visualizations through Matplotlib and Seaborn.  \n",
        "\n"
      ],
      "metadata": {
        "id": "7tuLPCQIK7ba"
      }
    },
    {
      "cell_type": "markdown",
      "source": [
        "# Magic methods and bash commands for working with the Google Colab file system"
      ],
      "metadata": {
        "id": "CCB7NQt5Lfdn"
      }
    },
    {
      "cell_type": "code",
      "source": [
        "%pwd"
      ],
      "metadata": {
        "colab": {
          "base_uri": "https://localhost:8080/",
          "height": 35
        },
        "id": "g2Q8CDjILaFG",
        "outputId": "0e43fa1a-acdb-4b8d-ccf4-09ef027c6f15"
      },
      "execution_count": 1,
      "outputs": [
        {
          "output_type": "execute_result",
          "data": {
            "text/plain": [
              "'/content'"
            ],
            "application/vnd.google.colaboratory.intrinsic+json": {
              "type": "string"
            }
          },
          "metadata": {},
          "execution_count": 1
        }
      ]
    },
    {
      "cell_type": "markdown",
      "source": [
        "%pwd - this is a Jupyter magic command that outputs the current working directory. In this case, it's /content. This is the root of the Colab file system, where you start working."
      ],
      "metadata": {
        "id": "pUGboHTAMGyr"
      }
    },
    {
      "cell_type": "markdown",
      "source": [
        "---"
      ],
      "metadata": {
        "id": "GNXY4nJmMLOs"
      }
    },
    {
      "cell_type": "code",
      "source": [
        "%ls"
      ],
      "metadata": {
        "colab": {
          "base_uri": "https://localhost:8080/"
        },
        "id": "AvGIAP0IME_X",
        "outputId": "2e664397-eb4b-4985-81e8-e5f25b0ad56e"
      },
      "execution_count": null,
      "outputs": [
        {
          "output_type": "stream",
          "name": "stdout",
          "text": [
            "\u001b[0m\u001b[01;34msample_data\u001b[0m/\n"
          ]
        }
      ]
    },
    {
      "cell_type": "markdown",
      "source": [
        "%ls - this is another Jupyter magic command that lists files and directories in the current working directory. In this case, it shows that there is a sample_data/ directory inside /content."
      ],
      "metadata": {
        "id": "d5g4J2klMS3E"
      }
    },
    {
      "cell_type": "markdown",
      "source": [
        "---"
      ],
      "metadata": {
        "id": "g8DGUEUMMVrR"
      }
    },
    {
      "cell_type": "code",
      "source": [
        "%cd sample_data\n",
        "%ls"
      ],
      "metadata": {
        "colab": {
          "base_uri": "https://localhost:8080/"
        },
        "id": "6K3yWGzRMWRn",
        "outputId": "2cb6a70f-0ec7-4e5a-dca6-7889d6555043"
      },
      "execution_count": null,
      "outputs": [
        {
          "output_type": "stream",
          "name": "stdout",
          "text": [
            "/content/sample_data\n",
            "\u001b[0m\u001b[01;32manscombe.json\u001b[0m*               california_housing_train.csv  mnist_train_small.csv\n",
            "california_housing_test.csv  mnist_test.csv                \u001b[01;32mREADME.md\u001b[0m*\n"
          ]
        }
      ]
    },
    {
      "cell_type": "markdown",
      "source": [
        "%cd sample_data - this is a magic command that changes the current working directory to sample_data/.\n",
        "\n",
        "%ls - again lists files and directories, but this time inside sample_data/. You can see that there are files anscombe.json, california_housing_test.csv, and others here."
      ],
      "metadata": {
        "id": "lrbXbxB5McJh"
      }
    },
    {
      "cell_type": "markdown",
      "source": [
        "---"
      ],
      "metadata": {
        "id": "q03RsjAJMesC"
      }
    },
    {
      "cell_type": "code",
      "source": [
        "!head -5 README.md"
      ],
      "metadata": {
        "colab": {
          "base_uri": "https://localhost:8080/"
        },
        "id": "sShW0-nYMgYf",
        "outputId": "c075adb1-5851-47c9-c53b-7fe91c392370"
      },
      "execution_count": null,
      "outputs": [
        {
          "output_type": "stream",
          "name": "stdout",
          "text": [
            "This directory includes a few sample datasets to get you started.\n",
            "\n",
            "*   `california_housing_data*.csv` is California housing data from the 1990 US\n",
            "    Census; more information is available at:\n",
            "    https://docs.google.com/document/d/e/2PACX-1vRhYtsvc5eOR2FWNCwaBiKL6suIOrxJig8LcSBbmCbyYsayia_DvPOOBlXZ4CAlQ5nlDD8kTaIDRwrN/pub\n"
          ]
        }
      ]
    },
    {
      "cell_type": "markdown",
      "source": [
        "!head -5 README.md - this is a bash command that outputs the first 5 lines of the README.md file. The ! symbol is used to run bash commands in Colab. This command allows you to view the contents of the file, which, as it turns out, contains a description of the dataset."
      ],
      "metadata": {
        "id": "f_ky6PKSMm1U"
      }
    },
    {
      "cell_type": "markdown",
      "source": [
        "---"
      ],
      "metadata": {
        "id": "Ovg3_zZ9Mn7-"
      }
    },
    {
      "cell_type": "code",
      "source": [
        "!echo \"sample file\" > sample_file.txt\n",
        "%ls"
      ],
      "metadata": {
        "colab": {
          "base_uri": "https://localhost:8080/"
        },
        "id": "YPqtH2pjMjjv",
        "outputId": "f676e681-a86b-4e74-d029-2e94e49e35fd"
      },
      "execution_count": null,
      "outputs": [
        {
          "output_type": "stream",
          "name": "stdout",
          "text": [
            "\u001b[0m\u001b[01;32manscombe.json\u001b[0m*               california_housing_train.csv  mnist_train_small.csv  sample_file.txt\n",
            "california_housing_test.csv  mnist_test.csv                \u001b[01;32mREADME.md\u001b[0m*\n"
          ]
        }
      ]
    },
    {
      "cell_type": "markdown",
      "source": [
        "!echo \"sample file\" > sample_file.txt - this is a bash command that creates a sample_file.txt file and writes the string \"sample file\" to it.\n",
        "\n",
        "%ls - lists files, and now we see that sample_file.txt has appeared in the current directory.\n",
        "\n",
        "Cell [1]:"
      ],
      "metadata": {
        "id": "lg-nxbVyMykm"
      }
    },
    {
      "cell_type": "markdown",
      "source": [
        "---"
      ],
      "metadata": {
        "id": "6ZR7eGeOMzqq"
      }
    },
    {
      "cell_type": "code",
      "source": [
        "!cat sample_file.txt"
      ],
      "metadata": {
        "colab": {
          "base_uri": "https://localhost:8080/"
        },
        "id": "JJhSOqT_MuAB",
        "outputId": "24e33e9c-cc31-4d27-f8e9-48a76ba5b903"
      },
      "execution_count": null,
      "outputs": [
        {
          "output_type": "stream",
          "name": "stdout",
          "text": [
            "sample file\n"
          ]
        }
      ]
    },
    {
      "cell_type": "markdown",
      "source": [
        "!cat sample_file.txt - this is a bash command that outputs the contents of the sample_file.txt file. In this case, the string \"sample file\" is output."
      ],
      "metadata": {
        "id": "s6I-AxpkM3pr"
      }
    },
    {
      "cell_type": "markdown",
      "source": [
        "---"
      ],
      "metadata": {
        "id": "F1C1WWg9M7an"
      }
    },
    {
      "cell_type": "markdown",
      "source": [
        "FILE UPLOAD\n",
        "=================="
      ],
      "metadata": {
        "id": "5ouNN84DXAGy"
      }
    },
    {
      "cell_type": "code",
      "source": [
        "from google.colab import files"
      ],
      "metadata": {
        "id": "jKpWyj9lM2oA"
      },
      "execution_count": 1,
      "outputs": []
    },
    {
      "cell_type": "code",
      "source": [
        "# Example of using uploaded files\n",
        "for file_name, file_data in uploaded.items():\n",
        "   print(f\"File: {file_name}\")\n",
        "   # Process file data\n",
        "   # For example:\n",
        "   # import pandas as pd\n",
        "   # df = pd.read_csv(io.BytesIO(file_data))\n",
        "   # print(df.head())"
      ],
      "metadata": {
        "id": "rvRnAkp8XK_1"
      },
      "execution_count": null,
      "outputs": []
    }
  ]
}
